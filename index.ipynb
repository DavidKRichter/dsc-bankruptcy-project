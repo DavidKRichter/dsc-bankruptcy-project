{
 "cells": [
  {
   "cell_type": "markdown",
   "id": "54134fba",
   "metadata": {},
   "source": [
    "# Predicting Bankruptcy with Financial Data\n",
    "\n",
    "In this project I look at financial data for companies listed on Taiwan's stock exchange between 1999 and 2009 and test a series of models that use this data to predict which companies are likely to go bankrupt. A model like this can help investors or fund managers to assess the risk of holding stock in a given company as well as the opportunities and risks of short selling a company's stock. This is purely an educational project so none of the recommendations in it should be construed as financial advice.\n",
    "\n",
    "I'm going to be evaluating the performance of my models primarily based on the F1 scores for the bankruptcy class, since this number incorporates both:\n",
    "\n",
    "1. What percentage of our bankruptcy predictions are correct (precision), and\n",
    "2. What percentage of all bankruptcies our predictions account for (recall).\n",
    "\n",
    "F1 is defined as:\n",
    "\n",
    "    2 * precision * recall / (precision + recall)"
   ]
  },
  {
   "cell_type": "markdown",
   "id": "9e96931e",
   "metadata": {},
   "source": [
    "### Importing Libraries and Inspecting Data"
   ]
  },
  {
   "cell_type": "code",
   "execution_count": 1,
   "id": "d072fd3f",
   "metadata": {},
   "outputs": [],
   "source": [
    "import numpy as np\n",
    "import pandas as pd\n",
    "import matplotlib.pyplot as plt\n",
    "\n",
    "from sklearn.preprocessing import StandardScaler\n",
    "from sklearn.model_selection import train_test_split, GridSearchCV\n",
    "from sklearn.linear_model import LogisticRegression\n",
    "from sklearn.pipeline import Pipeline\n",
    "from sklearn.metrics import accuracy_score, precision_score, recall_score, f1_score, confusion_matrix,\\\n",
    "classification_report, plot_confusion_matrix, precision_recall_curve\n",
    "\n",
    "from sklearn.tree import DecisionTreeClassifier, plot_tree\n",
    "\n",
    "from sklearn.ensemble import RandomForestClassifier"
   ]
  },
  {
   "cell_type": "code",
   "execution_count": 2,
   "id": "d74962c3",
   "metadata": {
    "scrolled": true
   },
   "outputs": [
    {
     "data": {
      "text/html": [
       "<div>\n",
       "<style scoped>\n",
       "    .dataframe tbody tr th:only-of-type {\n",
       "        vertical-align: middle;\n",
       "    }\n",
       "\n",
       "    .dataframe tbody tr th {\n",
       "        vertical-align: top;\n",
       "    }\n",
       "\n",
       "    .dataframe thead th {\n",
       "        text-align: right;\n",
       "    }\n",
       "</style>\n",
       "<table border=\"1\" class=\"dataframe\">\n",
       "  <thead>\n",
       "    <tr style=\"text-align: right;\">\n",
       "      <th></th>\n",
       "      <th>Bankrupt?</th>\n",
       "      <th>ROA(C) before interest and depreciation before interest</th>\n",
       "      <th>ROA(A) before interest and % after tax</th>\n",
       "      <th>ROA(B) before interest and depreciation after tax</th>\n",
       "      <th>Operating Gross Margin</th>\n",
       "      <th>Realized Sales Gross Margin</th>\n",
       "      <th>Operating Profit Rate</th>\n",
       "      <th>Pre-tax net Interest Rate</th>\n",
       "      <th>After-tax net Interest Rate</th>\n",
       "      <th>Non-industry income and expenditure/revenue</th>\n",
       "      <th>...</th>\n",
       "      <th>Net Income to Total Assets</th>\n",
       "      <th>Total assets to GNP price</th>\n",
       "      <th>No-credit Interval</th>\n",
       "      <th>Gross Profit to Sales</th>\n",
       "      <th>Net Income to Stockholder's Equity</th>\n",
       "      <th>Liability to Equity</th>\n",
       "      <th>Degree of Financial Leverage (DFL)</th>\n",
       "      <th>Interest Coverage Ratio (Interest expense to EBIT)</th>\n",
       "      <th>Net Income Flag</th>\n",
       "      <th>Equity to Liability</th>\n",
       "    </tr>\n",
       "  </thead>\n",
       "  <tbody>\n",
       "    <tr>\n",
       "      <th>0</th>\n",
       "      <td>1</td>\n",
       "      <td>0.370594</td>\n",
       "      <td>0.424389</td>\n",
       "      <td>0.405750</td>\n",
       "      <td>0.601457</td>\n",
       "      <td>0.601457</td>\n",
       "      <td>0.998969</td>\n",
       "      <td>0.796887</td>\n",
       "      <td>0.808809</td>\n",
       "      <td>0.302646</td>\n",
       "      <td>...</td>\n",
       "      <td>0.716845</td>\n",
       "      <td>0.009219</td>\n",
       "      <td>0.622879</td>\n",
       "      <td>0.601453</td>\n",
       "      <td>0.827890</td>\n",
       "      <td>0.290202</td>\n",
       "      <td>0.026601</td>\n",
       "      <td>0.564050</td>\n",
       "      <td>1</td>\n",
       "      <td>0.016469</td>\n",
       "    </tr>\n",
       "    <tr>\n",
       "      <th>1</th>\n",
       "      <td>1</td>\n",
       "      <td>0.464291</td>\n",
       "      <td>0.538214</td>\n",
       "      <td>0.516730</td>\n",
       "      <td>0.610235</td>\n",
       "      <td>0.610235</td>\n",
       "      <td>0.998946</td>\n",
       "      <td>0.797380</td>\n",
       "      <td>0.809301</td>\n",
       "      <td>0.303556</td>\n",
       "      <td>...</td>\n",
       "      <td>0.795297</td>\n",
       "      <td>0.008323</td>\n",
       "      <td>0.623652</td>\n",
       "      <td>0.610237</td>\n",
       "      <td>0.839969</td>\n",
       "      <td>0.283846</td>\n",
       "      <td>0.264577</td>\n",
       "      <td>0.570175</td>\n",
       "      <td>1</td>\n",
       "      <td>0.020794</td>\n",
       "    </tr>\n",
       "    <tr>\n",
       "      <th>2</th>\n",
       "      <td>1</td>\n",
       "      <td>0.426071</td>\n",
       "      <td>0.499019</td>\n",
       "      <td>0.472295</td>\n",
       "      <td>0.601450</td>\n",
       "      <td>0.601364</td>\n",
       "      <td>0.998857</td>\n",
       "      <td>0.796403</td>\n",
       "      <td>0.808388</td>\n",
       "      <td>0.302035</td>\n",
       "      <td>...</td>\n",
       "      <td>0.774670</td>\n",
       "      <td>0.040003</td>\n",
       "      <td>0.623841</td>\n",
       "      <td>0.601449</td>\n",
       "      <td>0.836774</td>\n",
       "      <td>0.290189</td>\n",
       "      <td>0.026555</td>\n",
       "      <td>0.563706</td>\n",
       "      <td>1</td>\n",
       "      <td>0.016474</td>\n",
       "    </tr>\n",
       "    <tr>\n",
       "      <th>3</th>\n",
       "      <td>1</td>\n",
       "      <td>0.399844</td>\n",
       "      <td>0.451265</td>\n",
       "      <td>0.457733</td>\n",
       "      <td>0.583541</td>\n",
       "      <td>0.583541</td>\n",
       "      <td>0.998700</td>\n",
       "      <td>0.796967</td>\n",
       "      <td>0.808966</td>\n",
       "      <td>0.303350</td>\n",
       "      <td>...</td>\n",
       "      <td>0.739555</td>\n",
       "      <td>0.003252</td>\n",
       "      <td>0.622929</td>\n",
       "      <td>0.583538</td>\n",
       "      <td>0.834697</td>\n",
       "      <td>0.281721</td>\n",
       "      <td>0.026697</td>\n",
       "      <td>0.564663</td>\n",
       "      <td>1</td>\n",
       "      <td>0.023982</td>\n",
       "    </tr>\n",
       "    <tr>\n",
       "      <th>4</th>\n",
       "      <td>1</td>\n",
       "      <td>0.465022</td>\n",
       "      <td>0.538432</td>\n",
       "      <td>0.522298</td>\n",
       "      <td>0.598783</td>\n",
       "      <td>0.598783</td>\n",
       "      <td>0.998973</td>\n",
       "      <td>0.797366</td>\n",
       "      <td>0.809304</td>\n",
       "      <td>0.303475</td>\n",
       "      <td>...</td>\n",
       "      <td>0.795016</td>\n",
       "      <td>0.003878</td>\n",
       "      <td>0.623521</td>\n",
       "      <td>0.598782</td>\n",
       "      <td>0.839973</td>\n",
       "      <td>0.278514</td>\n",
       "      <td>0.024752</td>\n",
       "      <td>0.575617</td>\n",
       "      <td>1</td>\n",
       "      <td>0.035490</td>\n",
       "    </tr>\n",
       "  </tbody>\n",
       "</table>\n",
       "<p>5 rows × 96 columns</p>\n",
       "</div>"
      ],
      "text/plain": [
       "   Bankrupt?   ROA(C) before interest and depreciation before interest  \\\n",
       "0          1                                           0.370594          \n",
       "1          1                                           0.464291          \n",
       "2          1                                           0.426071          \n",
       "3          1                                           0.399844          \n",
       "4          1                                           0.465022          \n",
       "\n",
       "    ROA(A) before interest and % after tax  \\\n",
       "0                                 0.424389   \n",
       "1                                 0.538214   \n",
       "2                                 0.499019   \n",
       "3                                 0.451265   \n",
       "4                                 0.538432   \n",
       "\n",
       "    ROA(B) before interest and depreciation after tax  \\\n",
       "0                                           0.405750    \n",
       "1                                           0.516730    \n",
       "2                                           0.472295    \n",
       "3                                           0.457733    \n",
       "4                                           0.522298    \n",
       "\n",
       "    Operating Gross Margin   Realized Sales Gross Margin  \\\n",
       "0                 0.601457                      0.601457   \n",
       "1                 0.610235                      0.610235   \n",
       "2                 0.601450                      0.601364   \n",
       "3                 0.583541                      0.583541   \n",
       "4                 0.598783                      0.598783   \n",
       "\n",
       "    Operating Profit Rate   Pre-tax net Interest Rate  \\\n",
       "0                0.998969                    0.796887   \n",
       "1                0.998946                    0.797380   \n",
       "2                0.998857                    0.796403   \n",
       "3                0.998700                    0.796967   \n",
       "4                0.998973                    0.797366   \n",
       "\n",
       "    After-tax net Interest Rate   Non-industry income and expenditure/revenue  \\\n",
       "0                      0.808809                                      0.302646   \n",
       "1                      0.809301                                      0.303556   \n",
       "2                      0.808388                                      0.302035   \n",
       "3                      0.808966                                      0.303350   \n",
       "4                      0.809304                                      0.303475   \n",
       "\n",
       "   ...   Net Income to Total Assets   Total assets to GNP price  \\\n",
       "0  ...                     0.716845                    0.009219   \n",
       "1  ...                     0.795297                    0.008323   \n",
       "2  ...                     0.774670                    0.040003   \n",
       "3  ...                     0.739555                    0.003252   \n",
       "4  ...                     0.795016                    0.003878   \n",
       "\n",
       "    No-credit Interval   Gross Profit to Sales  \\\n",
       "0             0.622879                0.601453   \n",
       "1             0.623652                0.610237   \n",
       "2             0.623841                0.601449   \n",
       "3             0.622929                0.583538   \n",
       "4             0.623521                0.598782   \n",
       "\n",
       "    Net Income to Stockholder's Equity   Liability to Equity  \\\n",
       "0                             0.827890              0.290202   \n",
       "1                             0.839969              0.283846   \n",
       "2                             0.836774              0.290189   \n",
       "3                             0.834697              0.281721   \n",
       "4                             0.839973              0.278514   \n",
       "\n",
       "    Degree of Financial Leverage (DFL)  \\\n",
       "0                             0.026601   \n",
       "1                             0.264577   \n",
       "2                             0.026555   \n",
       "3                             0.026697   \n",
       "4                             0.024752   \n",
       "\n",
       "    Interest Coverage Ratio (Interest expense to EBIT)   Net Income Flag  \\\n",
       "0                                           0.564050                   1   \n",
       "1                                           0.570175                   1   \n",
       "2                                           0.563706                   1   \n",
       "3                                           0.564663                   1   \n",
       "4                                           0.575617                   1   \n",
       "\n",
       "    Equity to Liability  \n",
       "0              0.016469  \n",
       "1              0.020794  \n",
       "2              0.016474  \n",
       "3              0.023982  \n",
       "4              0.035490  \n",
       "\n",
       "[5 rows x 96 columns]"
      ]
     },
     "execution_count": 2,
     "metadata": {},
     "output_type": "execute_result"
    }
   ],
   "source": [
    "# inspecting the dataset\n",
    "df = pd.read_csv('data/data.csv')\n",
    "df.head()"
   ]
  },
  {
   "cell_type": "code",
   "execution_count": 3,
   "id": "9f4e1df1",
   "metadata": {},
   "outputs": [
    {
     "name": "stdout",
     "output_type": "stream",
     "text": [
      "<class 'pandas.core.frame.DataFrame'>\n",
      "RangeIndex: 6819 entries, 0 to 6818\n",
      "Data columns (total 96 columns):\n",
      " #   Column                                                    Non-Null Count  Dtype  \n",
      "---  ------                                                    --------------  -----  \n",
      " 0   Bankrupt?                                                 6819 non-null   int64  \n",
      " 1    ROA(C) before interest and depreciation before interest  6819 non-null   float64\n",
      " 2    ROA(A) before interest and % after tax                   6819 non-null   float64\n",
      " 3    ROA(B) before interest and depreciation after tax        6819 non-null   float64\n",
      " 4    Operating Gross Margin                                   6819 non-null   float64\n",
      " 5    Realized Sales Gross Margin                              6819 non-null   float64\n",
      " 6    Operating Profit Rate                                    6819 non-null   float64\n",
      " 7    Pre-tax net Interest Rate                                6819 non-null   float64\n",
      " 8    After-tax net Interest Rate                              6819 non-null   float64\n",
      " 9    Non-industry income and expenditure/revenue              6819 non-null   float64\n",
      " 10   Continuous interest rate (after tax)                     6819 non-null   float64\n",
      " 11   Operating Expense Rate                                   6819 non-null   float64\n",
      " 12   Research and development expense rate                    6819 non-null   float64\n",
      " 13   Cash flow rate                                           6819 non-null   float64\n",
      " 14   Interest-bearing debt interest rate                      6819 non-null   float64\n",
      " 15   Tax rate (A)                                             6819 non-null   float64\n",
      " 16   Net Value Per Share (B)                                  6819 non-null   float64\n",
      " 17   Net Value Per Share (A)                                  6819 non-null   float64\n",
      " 18   Net Value Per Share (C)                                  6819 non-null   float64\n",
      " 19   Persistent EPS in the Last Four Seasons                  6819 non-null   float64\n",
      " 20   Cash Flow Per Share                                      6819 non-null   float64\n",
      " 21   Revenue Per Share (Yuan ¥)                               6819 non-null   float64\n",
      " 22   Operating Profit Per Share (Yuan ¥)                      6819 non-null   float64\n",
      " 23   Per Share Net profit before tax (Yuan ¥)                 6819 non-null   float64\n",
      " 24   Realized Sales Gross Profit Growth Rate                  6819 non-null   float64\n",
      " 25   Operating Profit Growth Rate                             6819 non-null   float64\n",
      " 26   After-tax Net Profit Growth Rate                         6819 non-null   float64\n",
      " 27   Regular Net Profit Growth Rate                           6819 non-null   float64\n",
      " 28   Continuous Net Profit Growth Rate                        6819 non-null   float64\n",
      " 29   Total Asset Growth Rate                                  6819 non-null   float64\n",
      " 30   Net Value Growth Rate                                    6819 non-null   float64\n",
      " 31   Total Asset Return Growth Rate Ratio                     6819 non-null   float64\n",
      " 32   Cash Reinvestment %                                      6819 non-null   float64\n",
      " 33   Current Ratio                                            6819 non-null   float64\n",
      " 34   Quick Ratio                                              6819 non-null   float64\n",
      " 35   Interest Expense Ratio                                   6819 non-null   float64\n",
      " 36   Total debt/Total net worth                               6819 non-null   float64\n",
      " 37   Debt ratio %                                             6819 non-null   float64\n",
      " 38   Net worth/Assets                                         6819 non-null   float64\n",
      " 39   Long-term fund suitability ratio (A)                     6819 non-null   float64\n",
      " 40   Borrowing dependency                                     6819 non-null   float64\n",
      " 41   Contingent liabilities/Net worth                         6819 non-null   float64\n",
      " 42   Operating profit/Paid-in capital                         6819 non-null   float64\n",
      " 43   Net profit before tax/Paid-in capital                    6819 non-null   float64\n",
      " 44   Inventory and accounts receivable/Net value              6819 non-null   float64\n",
      " 45   Total Asset Turnover                                     6819 non-null   float64\n",
      " 46   Accounts Receivable Turnover                             6819 non-null   float64\n",
      " 47   Average Collection Days                                  6819 non-null   float64\n",
      " 48   Inventory Turnover Rate (times)                          6819 non-null   float64\n",
      " 49   Fixed Assets Turnover Frequency                          6819 non-null   float64\n",
      " 50   Net Worth Turnover Rate (times)                          6819 non-null   float64\n",
      " 51   Revenue per person                                       6819 non-null   float64\n",
      " 52   Operating profit per person                              6819 non-null   float64\n",
      " 53   Allocation rate per person                               6819 non-null   float64\n",
      " 54   Working Capital to Total Assets                          6819 non-null   float64\n",
      " 55   Quick Assets/Total Assets                                6819 non-null   float64\n",
      " 56   Current Assets/Total Assets                              6819 non-null   float64\n",
      " 57   Cash/Total Assets                                        6819 non-null   float64\n",
      " 58   Quick Assets/Current Liability                           6819 non-null   float64\n",
      " 59   Cash/Current Liability                                   6819 non-null   float64\n",
      " 60   Current Liability to Assets                              6819 non-null   float64\n",
      " 61   Operating Funds to Liability                             6819 non-null   float64\n",
      " 62   Inventory/Working Capital                                6819 non-null   float64\n",
      " 63   Inventory/Current Liability                              6819 non-null   float64\n",
      " 64   Current Liabilities/Liability                            6819 non-null   float64\n",
      " 65   Working Capital/Equity                                   6819 non-null   float64\n",
      " 66   Current Liabilities/Equity                               6819 non-null   float64\n",
      " 67   Long-term Liability to Current Assets                    6819 non-null   float64\n",
      " 68   Retained Earnings to Total Assets                        6819 non-null   float64\n",
      " 69   Total income/Total expense                               6819 non-null   float64\n",
      " 70   Total expense/Assets                                     6819 non-null   float64\n",
      " 71   Current Asset Turnover Rate                              6819 non-null   float64\n",
      " 72   Quick Asset Turnover Rate                                6819 non-null   float64\n",
      " 73   Working capitcal Turnover Rate                           6819 non-null   float64\n",
      " 74   Cash Turnover Rate                                       6819 non-null   float64\n",
      " 75   Cash Flow to Sales                                       6819 non-null   float64\n",
      " 76   Fixed Assets to Assets                                   6819 non-null   float64\n",
      " 77   Current Liability to Liability                           6819 non-null   float64\n",
      " 78   Current Liability to Equity                              6819 non-null   float64\n",
      " 79   Equity to Long-term Liability                            6819 non-null   float64\n",
      " 80   Cash Flow to Total Assets                                6819 non-null   float64\n",
      " 81   Cash Flow to Liability                                   6819 non-null   float64\n",
      " 82   CFO to Assets                                            6819 non-null   float64\n",
      " 83   Cash Flow to Equity                                      6819 non-null   float64\n",
      " 84   Current Liability to Current Assets                      6819 non-null   float64\n",
      " 85   Liability-Assets Flag                                    6819 non-null   int64  \n",
      " 86   Net Income to Total Assets                               6819 non-null   float64\n",
      " 87   Total assets to GNP price                                6819 non-null   float64\n",
      " 88   No-credit Interval                                       6819 non-null   float64\n",
      " 89   Gross Profit to Sales                                    6819 non-null   float64\n",
      " 90   Net Income to Stockholder's Equity                       6819 non-null   float64\n",
      " 91   Liability to Equity                                      6819 non-null   float64\n",
      " 92   Degree of Financial Leverage (DFL)                       6819 non-null   float64\n",
      " 93   Interest Coverage Ratio (Interest expense to EBIT)       6819 non-null   float64\n",
      " 94   Net Income Flag                                          6819 non-null   int64  \n",
      " 95   Equity to Liability                                      6819 non-null   float64\n",
      "dtypes: float64(93), int64(3)\n",
      "memory usage: 5.0 MB\n"
     ]
    }
   ],
   "source": [
    "#looking for null or non-numeric values\n",
    "df.info()"
   ]
  },
  {
   "cell_type": "markdown",
   "id": "8dcd4882",
   "metadata": {},
   "source": [
    "There are no null or non-numeric values.\n",
    "\n",
    "Looking at the top of our dataframe, it appears that scaling may have already been done on the data. For example, the columns with ROA (return on assets) values include numbers that seem quite high, which suggests that the column has been min-max scaled. To investigate this question further we'll look at summary statistics for our columns."
   ]
  },
  {
   "cell_type": "markdown",
   "id": "5e4cf3df",
   "metadata": {},
   "source": [
    "#### Eliminating inconsistently scaled columns"
   ]
  },
  {
   "cell_type": "code",
   "execution_count": 4,
   "id": "d26d237d",
   "metadata": {},
   "outputs": [
    {
     "data": {
      "text/html": [
       "<div>\n",
       "<style scoped>\n",
       "    .dataframe tbody tr th:only-of-type {\n",
       "        vertical-align: middle;\n",
       "    }\n",
       "\n",
       "    .dataframe tbody tr th {\n",
       "        vertical-align: top;\n",
       "    }\n",
       "\n",
       "    .dataframe thead th {\n",
       "        text-align: right;\n",
       "    }\n",
       "</style>\n",
       "<table border=\"1\" class=\"dataframe\">\n",
       "  <thead>\n",
       "    <tr style=\"text-align: right;\">\n",
       "      <th></th>\n",
       "      <th>Bankrupt?</th>\n",
       "      <th>ROA(C) before interest and depreciation before interest</th>\n",
       "      <th>ROA(A) before interest and % after tax</th>\n",
       "      <th>ROA(B) before interest and depreciation after tax</th>\n",
       "      <th>Operating Gross Margin</th>\n",
       "      <th>Realized Sales Gross Margin</th>\n",
       "      <th>Operating Profit Rate</th>\n",
       "      <th>Pre-tax net Interest Rate</th>\n",
       "      <th>After-tax net Interest Rate</th>\n",
       "      <th>Non-industry income and expenditure/revenue</th>\n",
       "      <th>...</th>\n",
       "      <th>Net Income to Total Assets</th>\n",
       "      <th>Total assets to GNP price</th>\n",
       "      <th>No-credit Interval</th>\n",
       "      <th>Gross Profit to Sales</th>\n",
       "      <th>Net Income to Stockholder's Equity</th>\n",
       "      <th>Liability to Equity</th>\n",
       "      <th>Degree of Financial Leverage (DFL)</th>\n",
       "      <th>Interest Coverage Ratio (Interest expense to EBIT)</th>\n",
       "      <th>Net Income Flag</th>\n",
       "      <th>Equity to Liability</th>\n",
       "    </tr>\n",
       "  </thead>\n",
       "  <tbody>\n",
       "    <tr>\n",
       "      <th>count</th>\n",
       "      <td>6819.000000</td>\n",
       "      <td>6819.000000</td>\n",
       "      <td>6819.000000</td>\n",
       "      <td>6819.000000</td>\n",
       "      <td>6819.000000</td>\n",
       "      <td>6819.000000</td>\n",
       "      <td>6819.000000</td>\n",
       "      <td>6819.000000</td>\n",
       "      <td>6819.000000</td>\n",
       "      <td>6819.000000</td>\n",
       "      <td>...</td>\n",
       "      <td>6819.000000</td>\n",
       "      <td>6.819000e+03</td>\n",
       "      <td>6819.000000</td>\n",
       "      <td>6819.000000</td>\n",
       "      <td>6819.000000</td>\n",
       "      <td>6819.000000</td>\n",
       "      <td>6819.000000</td>\n",
       "      <td>6819.000000</td>\n",
       "      <td>6819.0</td>\n",
       "      <td>6819.000000</td>\n",
       "    </tr>\n",
       "    <tr>\n",
       "      <th>mean</th>\n",
       "      <td>0.032263</td>\n",
       "      <td>0.505180</td>\n",
       "      <td>0.558625</td>\n",
       "      <td>0.553589</td>\n",
       "      <td>0.607948</td>\n",
       "      <td>0.607929</td>\n",
       "      <td>0.998755</td>\n",
       "      <td>0.797190</td>\n",
       "      <td>0.809084</td>\n",
       "      <td>0.303623</td>\n",
       "      <td>...</td>\n",
       "      <td>0.807760</td>\n",
       "      <td>1.862942e+07</td>\n",
       "      <td>0.623915</td>\n",
       "      <td>0.607946</td>\n",
       "      <td>0.840402</td>\n",
       "      <td>0.280365</td>\n",
       "      <td>0.027541</td>\n",
       "      <td>0.565358</td>\n",
       "      <td>1.0</td>\n",
       "      <td>0.047578</td>\n",
       "    </tr>\n",
       "    <tr>\n",
       "      <th>std</th>\n",
       "      <td>0.176710</td>\n",
       "      <td>0.060686</td>\n",
       "      <td>0.065620</td>\n",
       "      <td>0.061595</td>\n",
       "      <td>0.016934</td>\n",
       "      <td>0.016916</td>\n",
       "      <td>0.013010</td>\n",
       "      <td>0.012869</td>\n",
       "      <td>0.013601</td>\n",
       "      <td>0.011163</td>\n",
       "      <td>...</td>\n",
       "      <td>0.040332</td>\n",
       "      <td>3.764501e+08</td>\n",
       "      <td>0.012290</td>\n",
       "      <td>0.016934</td>\n",
       "      <td>0.014523</td>\n",
       "      <td>0.014463</td>\n",
       "      <td>0.015668</td>\n",
       "      <td>0.013214</td>\n",
       "      <td>0.0</td>\n",
       "      <td>0.050014</td>\n",
       "    </tr>\n",
       "    <tr>\n",
       "      <th>min</th>\n",
       "      <td>0.000000</td>\n",
       "      <td>0.000000</td>\n",
       "      <td>0.000000</td>\n",
       "      <td>0.000000</td>\n",
       "      <td>0.000000</td>\n",
       "      <td>0.000000</td>\n",
       "      <td>0.000000</td>\n",
       "      <td>0.000000</td>\n",
       "      <td>0.000000</td>\n",
       "      <td>0.000000</td>\n",
       "      <td>...</td>\n",
       "      <td>0.000000</td>\n",
       "      <td>0.000000e+00</td>\n",
       "      <td>0.000000</td>\n",
       "      <td>0.000000</td>\n",
       "      <td>0.000000</td>\n",
       "      <td>0.000000</td>\n",
       "      <td>0.000000</td>\n",
       "      <td>0.000000</td>\n",
       "      <td>1.0</td>\n",
       "      <td>0.000000</td>\n",
       "    </tr>\n",
       "    <tr>\n",
       "      <th>25%</th>\n",
       "      <td>0.000000</td>\n",
       "      <td>0.476527</td>\n",
       "      <td>0.535543</td>\n",
       "      <td>0.527277</td>\n",
       "      <td>0.600445</td>\n",
       "      <td>0.600434</td>\n",
       "      <td>0.998969</td>\n",
       "      <td>0.797386</td>\n",
       "      <td>0.809312</td>\n",
       "      <td>0.303466</td>\n",
       "      <td>...</td>\n",
       "      <td>0.796750</td>\n",
       "      <td>9.036205e-04</td>\n",
       "      <td>0.623636</td>\n",
       "      <td>0.600443</td>\n",
       "      <td>0.840115</td>\n",
       "      <td>0.276944</td>\n",
       "      <td>0.026791</td>\n",
       "      <td>0.565158</td>\n",
       "      <td>1.0</td>\n",
       "      <td>0.024477</td>\n",
       "    </tr>\n",
       "    <tr>\n",
       "      <th>50%</th>\n",
       "      <td>0.000000</td>\n",
       "      <td>0.502706</td>\n",
       "      <td>0.559802</td>\n",
       "      <td>0.552278</td>\n",
       "      <td>0.605997</td>\n",
       "      <td>0.605976</td>\n",
       "      <td>0.999022</td>\n",
       "      <td>0.797464</td>\n",
       "      <td>0.809375</td>\n",
       "      <td>0.303525</td>\n",
       "      <td>...</td>\n",
       "      <td>0.810619</td>\n",
       "      <td>2.085213e-03</td>\n",
       "      <td>0.623879</td>\n",
       "      <td>0.605998</td>\n",
       "      <td>0.841179</td>\n",
       "      <td>0.278778</td>\n",
       "      <td>0.026808</td>\n",
       "      <td>0.565252</td>\n",
       "      <td>1.0</td>\n",
       "      <td>0.033798</td>\n",
       "    </tr>\n",
       "    <tr>\n",
       "      <th>75%</th>\n",
       "      <td>0.000000</td>\n",
       "      <td>0.535563</td>\n",
       "      <td>0.589157</td>\n",
       "      <td>0.584105</td>\n",
       "      <td>0.613914</td>\n",
       "      <td>0.613842</td>\n",
       "      <td>0.999095</td>\n",
       "      <td>0.797579</td>\n",
       "      <td>0.809469</td>\n",
       "      <td>0.303585</td>\n",
       "      <td>...</td>\n",
       "      <td>0.826455</td>\n",
       "      <td>5.269777e-03</td>\n",
       "      <td>0.624168</td>\n",
       "      <td>0.613913</td>\n",
       "      <td>0.842357</td>\n",
       "      <td>0.281449</td>\n",
       "      <td>0.026913</td>\n",
       "      <td>0.565725</td>\n",
       "      <td>1.0</td>\n",
       "      <td>0.052838</td>\n",
       "    </tr>\n",
       "    <tr>\n",
       "      <th>max</th>\n",
       "      <td>1.000000</td>\n",
       "      <td>1.000000</td>\n",
       "      <td>1.000000</td>\n",
       "      <td>1.000000</td>\n",
       "      <td>1.000000</td>\n",
       "      <td>1.000000</td>\n",
       "      <td>1.000000</td>\n",
       "      <td>1.000000</td>\n",
       "      <td>1.000000</td>\n",
       "      <td>1.000000</td>\n",
       "      <td>...</td>\n",
       "      <td>1.000000</td>\n",
       "      <td>9.820000e+09</td>\n",
       "      <td>1.000000</td>\n",
       "      <td>1.000000</td>\n",
       "      <td>1.000000</td>\n",
       "      <td>1.000000</td>\n",
       "      <td>1.000000</td>\n",
       "      <td>1.000000</td>\n",
       "      <td>1.0</td>\n",
       "      <td>1.000000</td>\n",
       "    </tr>\n",
       "  </tbody>\n",
       "</table>\n",
       "<p>8 rows × 96 columns</p>\n",
       "</div>"
      ],
      "text/plain": [
       "         Bankrupt?   ROA(C) before interest and depreciation before interest  \\\n",
       "count  6819.000000                                        6819.000000          \n",
       "mean      0.032263                                           0.505180          \n",
       "std       0.176710                                           0.060686          \n",
       "min       0.000000                                           0.000000          \n",
       "25%       0.000000                                           0.476527          \n",
       "50%       0.000000                                           0.502706          \n",
       "75%       0.000000                                           0.535563          \n",
       "max       1.000000                                           1.000000          \n",
       "\n",
       "        ROA(A) before interest and % after tax  \\\n",
       "count                              6819.000000   \n",
       "mean                                  0.558625   \n",
       "std                                   0.065620   \n",
       "min                                   0.000000   \n",
       "25%                                   0.535543   \n",
       "50%                                   0.559802   \n",
       "75%                                   0.589157   \n",
       "max                                   1.000000   \n",
       "\n",
       "        ROA(B) before interest and depreciation after tax  \\\n",
       "count                                        6819.000000    \n",
       "mean                                            0.553589    \n",
       "std                                             0.061595    \n",
       "min                                             0.000000    \n",
       "25%                                             0.527277    \n",
       "50%                                             0.552278    \n",
       "75%                                             0.584105    \n",
       "max                                             1.000000    \n",
       "\n",
       "        Operating Gross Margin   Realized Sales Gross Margin  \\\n",
       "count              6819.000000                   6819.000000   \n",
       "mean                  0.607948                      0.607929   \n",
       "std                   0.016934                      0.016916   \n",
       "min                   0.000000                      0.000000   \n",
       "25%                   0.600445                      0.600434   \n",
       "50%                   0.605997                      0.605976   \n",
       "75%                   0.613914                      0.613842   \n",
       "max                   1.000000                      1.000000   \n",
       "\n",
       "        Operating Profit Rate   Pre-tax net Interest Rate  \\\n",
       "count             6819.000000                 6819.000000   \n",
       "mean                 0.998755                    0.797190   \n",
       "std                  0.013010                    0.012869   \n",
       "min                  0.000000                    0.000000   \n",
       "25%                  0.998969                    0.797386   \n",
       "50%                  0.999022                    0.797464   \n",
       "75%                  0.999095                    0.797579   \n",
       "max                  1.000000                    1.000000   \n",
       "\n",
       "        After-tax net Interest Rate  \\\n",
       "count                   6819.000000   \n",
       "mean                       0.809084   \n",
       "std                        0.013601   \n",
       "min                        0.000000   \n",
       "25%                        0.809312   \n",
       "50%                        0.809375   \n",
       "75%                        0.809469   \n",
       "max                        1.000000   \n",
       "\n",
       "        Non-industry income and expenditure/revenue  ...  \\\n",
       "count                                   6819.000000  ...   \n",
       "mean                                       0.303623  ...   \n",
       "std                                        0.011163  ...   \n",
       "min                                        0.000000  ...   \n",
       "25%                                        0.303466  ...   \n",
       "50%                                        0.303525  ...   \n",
       "75%                                        0.303585  ...   \n",
       "max                                        1.000000  ...   \n",
       "\n",
       "        Net Income to Total Assets   Total assets to GNP price  \\\n",
       "count                  6819.000000                6.819000e+03   \n",
       "mean                      0.807760                1.862942e+07   \n",
       "std                       0.040332                3.764501e+08   \n",
       "min                       0.000000                0.000000e+00   \n",
       "25%                       0.796750                9.036205e-04   \n",
       "50%                       0.810619                2.085213e-03   \n",
       "75%                       0.826455                5.269777e-03   \n",
       "max                       1.000000                9.820000e+09   \n",
       "\n",
       "        No-credit Interval   Gross Profit to Sales  \\\n",
       "count          6819.000000             6819.000000   \n",
       "mean              0.623915                0.607946   \n",
       "std               0.012290                0.016934   \n",
       "min               0.000000                0.000000   \n",
       "25%               0.623636                0.600443   \n",
       "50%               0.623879                0.605998   \n",
       "75%               0.624168                0.613913   \n",
       "max               1.000000                1.000000   \n",
       "\n",
       "        Net Income to Stockholder's Equity   Liability to Equity  \\\n",
       "count                          6819.000000           6819.000000   \n",
       "mean                              0.840402              0.280365   \n",
       "std                               0.014523              0.014463   \n",
       "min                               0.000000              0.000000   \n",
       "25%                               0.840115              0.276944   \n",
       "50%                               0.841179              0.278778   \n",
       "75%                               0.842357              0.281449   \n",
       "max                               1.000000              1.000000   \n",
       "\n",
       "        Degree of Financial Leverage (DFL)  \\\n",
       "count                          6819.000000   \n",
       "mean                              0.027541   \n",
       "std                               0.015668   \n",
       "min                               0.000000   \n",
       "25%                               0.026791   \n",
       "50%                               0.026808   \n",
       "75%                               0.026913   \n",
       "max                               1.000000   \n",
       "\n",
       "        Interest Coverage Ratio (Interest expense to EBIT)   Net Income Flag  \\\n",
       "count                                        6819.000000              6819.0   \n",
       "mean                                            0.565358                 1.0   \n",
       "std                                             0.013214                 0.0   \n",
       "min                                             0.000000                 1.0   \n",
       "25%                                             0.565158                 1.0   \n",
       "50%                                             0.565252                 1.0   \n",
       "75%                                             0.565725                 1.0   \n",
       "max                                             1.000000                 1.0   \n",
       "\n",
       "        Equity to Liability  \n",
       "count           6819.000000  \n",
       "mean               0.047578  \n",
       "std                0.050014  \n",
       "min                0.000000  \n",
       "25%                0.024477  \n",
       "50%                0.033798  \n",
       "75%                0.052838  \n",
       "max                1.000000  \n",
       "\n",
       "[8 rows x 96 columns]"
      ]
     },
     "execution_count": 4,
     "metadata": {},
     "output_type": "execute_result"
    }
   ],
   "source": [
    "df.describe()"
   ]
  },
  {
   "cell_type": "markdown",
   "id": "7751c9ee",
   "metadata": {},
   "source": [
    "As we can see above, the max and min values for most columns are 0 and 1, which almost certainly means that these columns have been min-max scaled. Below we'll look at the summary statistics for the columns have not been min-max scaled (i.e. the columns with max values greater than 1). "
   ]
  },
  {
   "cell_type": "code",
   "execution_count": 5,
   "id": "c54c7ec9",
   "metadata": {
    "scrolled": true
   },
   "outputs": [
    {
     "data": {
      "text/html": [
       "<div>\n",
       "<style scoped>\n",
       "    .dataframe tbody tr th:only-of-type {\n",
       "        vertical-align: middle;\n",
       "    }\n",
       "\n",
       "    .dataframe tbody tr th {\n",
       "        vertical-align: top;\n",
       "    }\n",
       "\n",
       "    .dataframe thead th {\n",
       "        text-align: right;\n",
       "    }\n",
       "</style>\n",
       "<table border=\"1\" class=\"dataframe\">\n",
       "  <thead>\n",
       "    <tr style=\"text-align: right;\">\n",
       "      <th></th>\n",
       "      <th>count</th>\n",
       "      <th>mean</th>\n",
       "      <th>std</th>\n",
       "      <th>min</th>\n",
       "      <th>25%</th>\n",
       "      <th>50%</th>\n",
       "      <th>75%</th>\n",
       "      <th>max</th>\n",
       "    </tr>\n",
       "  </thead>\n",
       "  <tbody>\n",
       "    <tr>\n",
       "      <th>Operating Expense Rate</th>\n",
       "      <td>6819.0</td>\n",
       "      <td>1.995347e+09</td>\n",
       "      <td>3.237684e+09</td>\n",
       "      <td>0.0</td>\n",
       "      <td>1.566874e-04</td>\n",
       "      <td>2.777589e-04</td>\n",
       "      <td>4.145000e+09</td>\n",
       "      <td>9.990000e+09</td>\n",
       "    </tr>\n",
       "    <tr>\n",
       "      <th>Research and development expense rate</th>\n",
       "      <td>6819.0</td>\n",
       "      <td>1.950427e+09</td>\n",
       "      <td>2.598292e+09</td>\n",
       "      <td>0.0</td>\n",
       "      <td>1.281880e-04</td>\n",
       "      <td>5.090000e+08</td>\n",
       "      <td>3.450000e+09</td>\n",
       "      <td>9.980000e+09</td>\n",
       "    </tr>\n",
       "    <tr>\n",
       "      <th>Interest-bearing debt interest rate</th>\n",
       "      <td>6819.0</td>\n",
       "      <td>1.644801e+07</td>\n",
       "      <td>1.082750e+08</td>\n",
       "      <td>0.0</td>\n",
       "      <td>2.030203e-04</td>\n",
       "      <td>3.210321e-04</td>\n",
       "      <td>5.325533e-04</td>\n",
       "      <td>9.900000e+08</td>\n",
       "    </tr>\n",
       "    <tr>\n",
       "      <th>Revenue Per Share (Yuan ¥)</th>\n",
       "      <td>6819.0</td>\n",
       "      <td>1.328641e+06</td>\n",
       "      <td>5.170709e+07</td>\n",
       "      <td>0.0</td>\n",
       "      <td>1.563138e-02</td>\n",
       "      <td>2.737571e-02</td>\n",
       "      <td>4.635722e-02</td>\n",
       "      <td>3.020000e+09</td>\n",
       "    </tr>\n",
       "    <tr>\n",
       "      <th>Total Asset Growth Rate</th>\n",
       "      <td>6819.0</td>\n",
       "      <td>5.508097e+09</td>\n",
       "      <td>2.897718e+09</td>\n",
       "      <td>0.0</td>\n",
       "      <td>4.860000e+09</td>\n",
       "      <td>6.400000e+09</td>\n",
       "      <td>7.390000e+09</td>\n",
       "      <td>9.990000e+09</td>\n",
       "    </tr>\n",
       "    <tr>\n",
       "      <th>Net Value Growth Rate</th>\n",
       "      <td>6819.0</td>\n",
       "      <td>1.566212e+06</td>\n",
       "      <td>1.141594e+08</td>\n",
       "      <td>0.0</td>\n",
       "      <td>4.409689e-04</td>\n",
       "      <td>4.619555e-04</td>\n",
       "      <td>4.993621e-04</td>\n",
       "      <td>9.330000e+09</td>\n",
       "    </tr>\n",
       "    <tr>\n",
       "      <th>Current Ratio</th>\n",
       "      <td>6819.0</td>\n",
       "      <td>4.032850e+05</td>\n",
       "      <td>3.330216e+07</td>\n",
       "      <td>0.0</td>\n",
       "      <td>7.555047e-03</td>\n",
       "      <td>1.058717e-02</td>\n",
       "      <td>1.626953e-02</td>\n",
       "      <td>2.750000e+09</td>\n",
       "    </tr>\n",
       "    <tr>\n",
       "      <th>Quick Ratio</th>\n",
       "      <td>6819.0</td>\n",
       "      <td>8.376595e+06</td>\n",
       "      <td>2.446847e+08</td>\n",
       "      <td>0.0</td>\n",
       "      <td>4.725903e-03</td>\n",
       "      <td>7.412472e-03</td>\n",
       "      <td>1.224911e-02</td>\n",
       "      <td>9.230000e+09</td>\n",
       "    </tr>\n",
       "    <tr>\n",
       "      <th>Total debt/Total net worth</th>\n",
       "      <td>6819.0</td>\n",
       "      <td>4.416337e+06</td>\n",
       "      <td>1.684069e+08</td>\n",
       "      <td>0.0</td>\n",
       "      <td>3.007049e-03</td>\n",
       "      <td>5.546284e-03</td>\n",
       "      <td>9.273293e-03</td>\n",
       "      <td>9.940000e+09</td>\n",
       "    </tr>\n",
       "    <tr>\n",
       "      <th>Accounts Receivable Turnover</th>\n",
       "      <td>6819.0</td>\n",
       "      <td>1.278971e+07</td>\n",
       "      <td>2.782598e+08</td>\n",
       "      <td>0.0</td>\n",
       "      <td>7.101336e-04</td>\n",
       "      <td>9.678107e-04</td>\n",
       "      <td>1.454759e-03</td>\n",
       "      <td>9.740000e+09</td>\n",
       "    </tr>\n",
       "    <tr>\n",
       "      <th>Average Collection Days</th>\n",
       "      <td>6819.0</td>\n",
       "      <td>9.826221e+06</td>\n",
       "      <td>2.563589e+08</td>\n",
       "      <td>0.0</td>\n",
       "      <td>4.386530e-03</td>\n",
       "      <td>6.572537e-03</td>\n",
       "      <td>8.972876e-03</td>\n",
       "      <td>9.730000e+09</td>\n",
       "    </tr>\n",
       "    <tr>\n",
       "      <th>Inventory Turnover Rate (times)</th>\n",
       "      <td>6819.0</td>\n",
       "      <td>2.149106e+09</td>\n",
       "      <td>3.247967e+09</td>\n",
       "      <td>0.0</td>\n",
       "      <td>1.728256e-04</td>\n",
       "      <td>7.646743e-04</td>\n",
       "      <td>4.620000e+09</td>\n",
       "      <td>9.990000e+09</td>\n",
       "    </tr>\n",
       "    <tr>\n",
       "      <th>Fixed Assets Turnover Frequency</th>\n",
       "      <td>6819.0</td>\n",
       "      <td>1.008596e+09</td>\n",
       "      <td>2.477557e+09</td>\n",
       "      <td>0.0</td>\n",
       "      <td>2.330013e-04</td>\n",
       "      <td>5.930942e-04</td>\n",
       "      <td>3.652371e-03</td>\n",
       "      <td>9.990000e+09</td>\n",
       "    </tr>\n",
       "    <tr>\n",
       "      <th>Revenue per person</th>\n",
       "      <td>6819.0</td>\n",
       "      <td>2.325854e+06</td>\n",
       "      <td>1.366327e+08</td>\n",
       "      <td>0.0</td>\n",
       "      <td>1.043285e-02</td>\n",
       "      <td>1.861551e-02</td>\n",
       "      <td>3.585477e-02</td>\n",
       "      <td>8.810000e+09</td>\n",
       "    </tr>\n",
       "    <tr>\n",
       "      <th>Allocation rate per person</th>\n",
       "      <td>6819.0</td>\n",
       "      <td>1.125579e+07</td>\n",
       "      <td>2.945063e+08</td>\n",
       "      <td>0.0</td>\n",
       "      <td>4.120529e-03</td>\n",
       "      <td>7.844373e-03</td>\n",
       "      <td>1.502031e-02</td>\n",
       "      <td>9.570000e+09</td>\n",
       "    </tr>\n",
       "    <tr>\n",
       "      <th>Quick Assets/Current Liability</th>\n",
       "      <td>6819.0</td>\n",
       "      <td>3.592902e+06</td>\n",
       "      <td>1.716209e+08</td>\n",
       "      <td>0.0</td>\n",
       "      <td>5.239776e-03</td>\n",
       "      <td>7.908898e-03</td>\n",
       "      <td>1.295091e-02</td>\n",
       "      <td>8.820000e+09</td>\n",
       "    </tr>\n",
       "    <tr>\n",
       "      <th>Cash/Current Liability</th>\n",
       "      <td>6819.0</td>\n",
       "      <td>3.715999e+07</td>\n",
       "      <td>5.103509e+08</td>\n",
       "      <td>0.0</td>\n",
       "      <td>1.973008e-03</td>\n",
       "      <td>4.903886e-03</td>\n",
       "      <td>1.280557e-02</td>\n",
       "      <td>9.650000e+09</td>\n",
       "    </tr>\n",
       "    <tr>\n",
       "      <th>Inventory/Current Liability</th>\n",
       "      <td>6819.0</td>\n",
       "      <td>5.580680e+07</td>\n",
       "      <td>5.820516e+08</td>\n",
       "      <td>0.0</td>\n",
       "      <td>3.163148e-03</td>\n",
       "      <td>6.497335e-03</td>\n",
       "      <td>1.114677e-02</td>\n",
       "      <td>9.910000e+09</td>\n",
       "    </tr>\n",
       "    <tr>\n",
       "      <th>Long-term Liability to Current Assets</th>\n",
       "      <td>6819.0</td>\n",
       "      <td>5.416004e+07</td>\n",
       "      <td>5.702706e+08</td>\n",
       "      <td>0.0</td>\n",
       "      <td>0.000000e+00</td>\n",
       "      <td>1.974619e-03</td>\n",
       "      <td>9.005946e-03</td>\n",
       "      <td>9.540000e+09</td>\n",
       "    </tr>\n",
       "    <tr>\n",
       "      <th>Current Asset Turnover Rate</th>\n",
       "      <td>6819.0</td>\n",
       "      <td>1.195856e+09</td>\n",
       "      <td>2.821161e+09</td>\n",
       "      <td>0.0</td>\n",
       "      <td>1.456236e-04</td>\n",
       "      <td>1.987816e-04</td>\n",
       "      <td>4.525945e-04</td>\n",
       "      <td>1.000000e+10</td>\n",
       "    </tr>\n",
       "    <tr>\n",
       "      <th>Quick Asset Turnover Rate</th>\n",
       "      <td>6819.0</td>\n",
       "      <td>2.163735e+09</td>\n",
       "      <td>3.374944e+09</td>\n",
       "      <td>0.0</td>\n",
       "      <td>1.417149e-04</td>\n",
       "      <td>2.247728e-04</td>\n",
       "      <td>4.900000e+09</td>\n",
       "      <td>1.000000e+10</td>\n",
       "    </tr>\n",
       "    <tr>\n",
       "      <th>Cash Turnover Rate</th>\n",
       "      <td>6819.0</td>\n",
       "      <td>2.471977e+09</td>\n",
       "      <td>2.938623e+09</td>\n",
       "      <td>0.0</td>\n",
       "      <td>2.735337e-04</td>\n",
       "      <td>1.080000e+09</td>\n",
       "      <td>4.510000e+09</td>\n",
       "      <td>1.000000e+10</td>\n",
       "    </tr>\n",
       "    <tr>\n",
       "      <th>Fixed Assets to Assets</th>\n",
       "      <td>6819.0</td>\n",
       "      <td>1.220121e+06</td>\n",
       "      <td>1.007542e+08</td>\n",
       "      <td>0.0</td>\n",
       "      <td>8.536037e-02</td>\n",
       "      <td>1.968810e-01</td>\n",
       "      <td>3.722000e-01</td>\n",
       "      <td>8.320000e+09</td>\n",
       "    </tr>\n",
       "    <tr>\n",
       "      <th>Total assets to GNP price</th>\n",
       "      <td>6819.0</td>\n",
       "      <td>1.862942e+07</td>\n",
       "      <td>3.764501e+08</td>\n",
       "      <td>0.0</td>\n",
       "      <td>9.036205e-04</td>\n",
       "      <td>2.085213e-03</td>\n",
       "      <td>5.269777e-03</td>\n",
       "      <td>9.820000e+09</td>\n",
       "    </tr>\n",
       "  </tbody>\n",
       "</table>\n",
       "</div>"
      ],
      "text/plain": [
       "                                         count          mean           std  \\\n",
       " Operating Expense Rate                 6819.0  1.995347e+09  3.237684e+09   \n",
       " Research and development expense rate  6819.0  1.950427e+09  2.598292e+09   \n",
       " Interest-bearing debt interest rate    6819.0  1.644801e+07  1.082750e+08   \n",
       " Revenue Per Share (Yuan ¥)             6819.0  1.328641e+06  5.170709e+07   \n",
       " Total Asset Growth Rate                6819.0  5.508097e+09  2.897718e+09   \n",
       " Net Value Growth Rate                  6819.0  1.566212e+06  1.141594e+08   \n",
       " Current Ratio                          6819.0  4.032850e+05  3.330216e+07   \n",
       " Quick Ratio                            6819.0  8.376595e+06  2.446847e+08   \n",
       " Total debt/Total net worth             6819.0  4.416337e+06  1.684069e+08   \n",
       " Accounts Receivable Turnover           6819.0  1.278971e+07  2.782598e+08   \n",
       " Average Collection Days                6819.0  9.826221e+06  2.563589e+08   \n",
       " Inventory Turnover Rate (times)        6819.0  2.149106e+09  3.247967e+09   \n",
       " Fixed Assets Turnover Frequency        6819.0  1.008596e+09  2.477557e+09   \n",
       " Revenue per person                     6819.0  2.325854e+06  1.366327e+08   \n",
       " Allocation rate per person             6819.0  1.125579e+07  2.945063e+08   \n",
       " Quick Assets/Current Liability         6819.0  3.592902e+06  1.716209e+08   \n",
       " Cash/Current Liability                 6819.0  3.715999e+07  5.103509e+08   \n",
       " Inventory/Current Liability            6819.0  5.580680e+07  5.820516e+08   \n",
       " Long-term Liability to Current Assets  6819.0  5.416004e+07  5.702706e+08   \n",
       " Current Asset Turnover Rate            6819.0  1.195856e+09  2.821161e+09   \n",
       " Quick Asset Turnover Rate              6819.0  2.163735e+09  3.374944e+09   \n",
       " Cash Turnover Rate                     6819.0  2.471977e+09  2.938623e+09   \n",
       " Fixed Assets to Assets                 6819.0  1.220121e+06  1.007542e+08   \n",
       " Total assets to GNP price              6819.0  1.862942e+07  3.764501e+08   \n",
       "\n",
       "                                        min           25%           50%  \\\n",
       " Operating Expense Rate                 0.0  1.566874e-04  2.777589e-04   \n",
       " Research and development expense rate  0.0  1.281880e-04  5.090000e+08   \n",
       " Interest-bearing debt interest rate    0.0  2.030203e-04  3.210321e-04   \n",
       " Revenue Per Share (Yuan ¥)             0.0  1.563138e-02  2.737571e-02   \n",
       " Total Asset Growth Rate                0.0  4.860000e+09  6.400000e+09   \n",
       " Net Value Growth Rate                  0.0  4.409689e-04  4.619555e-04   \n",
       " Current Ratio                          0.0  7.555047e-03  1.058717e-02   \n",
       " Quick Ratio                            0.0  4.725903e-03  7.412472e-03   \n",
       " Total debt/Total net worth             0.0  3.007049e-03  5.546284e-03   \n",
       " Accounts Receivable Turnover           0.0  7.101336e-04  9.678107e-04   \n",
       " Average Collection Days                0.0  4.386530e-03  6.572537e-03   \n",
       " Inventory Turnover Rate (times)        0.0  1.728256e-04  7.646743e-04   \n",
       " Fixed Assets Turnover Frequency        0.0  2.330013e-04  5.930942e-04   \n",
       " Revenue per person                     0.0  1.043285e-02  1.861551e-02   \n",
       " Allocation rate per person             0.0  4.120529e-03  7.844373e-03   \n",
       " Quick Assets/Current Liability         0.0  5.239776e-03  7.908898e-03   \n",
       " Cash/Current Liability                 0.0  1.973008e-03  4.903886e-03   \n",
       " Inventory/Current Liability            0.0  3.163148e-03  6.497335e-03   \n",
       " Long-term Liability to Current Assets  0.0  0.000000e+00  1.974619e-03   \n",
       " Current Asset Turnover Rate            0.0  1.456236e-04  1.987816e-04   \n",
       " Quick Asset Turnover Rate              0.0  1.417149e-04  2.247728e-04   \n",
       " Cash Turnover Rate                     0.0  2.735337e-04  1.080000e+09   \n",
       " Fixed Assets to Assets                 0.0  8.536037e-02  1.968810e-01   \n",
       " Total assets to GNP price              0.0  9.036205e-04  2.085213e-03   \n",
       "\n",
       "                                                 75%           max  \n",
       " Operating Expense Rate                 4.145000e+09  9.990000e+09  \n",
       " Research and development expense rate  3.450000e+09  9.980000e+09  \n",
       " Interest-bearing debt interest rate    5.325533e-04  9.900000e+08  \n",
       " Revenue Per Share (Yuan ¥)             4.635722e-02  3.020000e+09  \n",
       " Total Asset Growth Rate                7.390000e+09  9.990000e+09  \n",
       " Net Value Growth Rate                  4.993621e-04  9.330000e+09  \n",
       " Current Ratio                          1.626953e-02  2.750000e+09  \n",
       " Quick Ratio                            1.224911e-02  9.230000e+09  \n",
       " Total debt/Total net worth             9.273293e-03  9.940000e+09  \n",
       " Accounts Receivable Turnover           1.454759e-03  9.740000e+09  \n",
       " Average Collection Days                8.972876e-03  9.730000e+09  \n",
       " Inventory Turnover Rate (times)        4.620000e+09  9.990000e+09  \n",
       " Fixed Assets Turnover Frequency        3.652371e-03  9.990000e+09  \n",
       " Revenue per person                     3.585477e-02  8.810000e+09  \n",
       " Allocation rate per person             1.502031e-02  9.570000e+09  \n",
       " Quick Assets/Current Liability         1.295091e-02  8.820000e+09  \n",
       " Cash/Current Liability                 1.280557e-02  9.650000e+09  \n",
       " Inventory/Current Liability            1.114677e-02  9.910000e+09  \n",
       " Long-term Liability to Current Assets  9.005946e-03  9.540000e+09  \n",
       " Current Asset Turnover Rate            4.525945e-04  1.000000e+10  \n",
       " Quick Asset Turnover Rate              4.900000e+09  1.000000e+10  \n",
       " Cash Turnover Rate                     4.510000e+09  1.000000e+10  \n",
       " Fixed Assets to Assets                 3.722000e-01  8.320000e+09  \n",
       " Total assets to GNP price              5.269777e-03  9.820000e+09  "
      ]
     },
     "execution_count": 5,
     "metadata": {},
     "output_type": "execute_result"
    }
   ],
   "source": [
    "max_vals = df.describe().loc['max',:]\n",
    "description = df[max_vals[max_vals !=1].index].describe().transpose()\n",
    "description"
   ]
  },
  {
   "cell_type": "markdown",
   "id": "58c7c977",
   "metadata": {},
   "source": [
    "In almost all these cases, the max values are close to 10 billion, while median values are below 1. This suggests that data for these columns may be inconsistently scaled. There are two possible solutions. We could drop rows for high values or we could drop columns. The problem with dropping rows is that we would be biasing our data set against high values, thereby distorting our results. For this reason, I'll instead be dropping columns that haven't been min-max scaled."
   ]
  },
  {
   "cell_type": "code",
   "execution_count": 6,
   "id": "034e5a7e",
   "metadata": {},
   "outputs": [],
   "source": [
    "df = df.drop(max_vals[max_vals !=1].index, axis=1)"
   ]
  },
  {
   "cell_type": "markdown",
   "id": "50424790",
   "metadata": {},
   "source": [
    "#### Inspecting target variable distribution"
   ]
  },
  {
   "cell_type": "code",
   "execution_count": 7,
   "id": "3314646b",
   "metadata": {},
   "outputs": [
    {
     "data": {
      "text/plain": [
       "0    6599\n",
       "1     220\n",
       "Name: Bankrupt?, dtype: int64"
      ]
     },
     "execution_count": 7,
     "metadata": {},
     "output_type": "execute_result"
    }
   ],
   "source": [
    "# checking target variable distribution\n",
    "df['Bankrupt?'].value_counts()"
   ]
  },
  {
   "cell_type": "code",
   "execution_count": 8,
   "id": "73d7a366",
   "metadata": {},
   "outputs": [
    {
     "data": {
      "text/plain": [
       "0    0.967737\n",
       "1    0.032263\n",
       "Name: Bankrupt?, dtype: float64"
      ]
     },
     "execution_count": 8,
     "metadata": {},
     "output_type": "execute_result"
    }
   ],
   "source": [
    "# normalized target variable distribution\n",
    "df['Bankrupt?'].value_counts(normalize=True)"
   ]
  },
  {
   "cell_type": "markdown",
   "id": "74d2c12d",
   "metadata": {},
   "source": [
    "As we can see, the data set is highly imbalanced -- only 3% of companies represented went bankrupt. This means that we could easily get a 97% accuracy score by predicting that no companies went bankrupt. However, this would also yield an undefined precision and a 0% recall for predicting bankruptcies."
   ]
  },
  {
   "cell_type": "markdown",
   "id": "397792a9",
   "metadata": {},
   "source": [
    "### Eliminating Perfectly Correlated Variables"
   ]
  },
  {
   "cell_type": "code",
   "execution_count": 9,
   "id": "090ca450",
   "metadata": {
    "scrolled": false
   },
   "outputs": [
    {
     "data": {
      "text/html": [
       "<div>\n",
       "<style scoped>\n",
       "    .dataframe tbody tr th:only-of-type {\n",
       "        vertical-align: middle;\n",
       "    }\n",
       "\n",
       "    .dataframe tbody tr th {\n",
       "        vertical-align: top;\n",
       "    }\n",
       "\n",
       "    .dataframe thead th {\n",
       "        text-align: right;\n",
       "    }\n",
       "</style>\n",
       "<table border=\"1\" class=\"dataframe\">\n",
       "  <thead>\n",
       "    <tr style=\"text-align: right;\">\n",
       "      <th></th>\n",
       "      <th>correlations</th>\n",
       "    </tr>\n",
       "    <tr>\n",
       "      <th>pairs</th>\n",
       "      <th></th>\n",
       "    </tr>\n",
       "  </thead>\n",
       "  <tbody>\n",
       "    <tr>\n",
       "      <th>( Debt ratio %,  Net worth/Assets)</th>\n",
       "      <td>1.000000</td>\n",
       "    </tr>\n",
       "    <tr>\n",
       "      <th>( Gross Profit to Sales,  Operating Gross Margin)</th>\n",
       "      <td>1.000000</td>\n",
       "    </tr>\n",
       "    <tr>\n",
       "      <th>( Net Value Per Share (C),  Net Value Per Share (A))</th>\n",
       "      <td>0.999837</td>\n",
       "    </tr>\n",
       "    <tr>\n",
       "      <th>( Realized Sales Gross Margin,  Operating Gross Margin)</th>\n",
       "      <td>0.999518</td>\n",
       "    </tr>\n",
       "    <tr>\n",
       "      <th>( Realized Sales Gross Margin,  Gross Profit to Sales)</th>\n",
       "      <td>0.999518</td>\n",
       "    </tr>\n",
       "    <tr>\n",
       "      <th>( Net Value Per Share (A),  Net Value Per Share (B))</th>\n",
       "      <td>0.999342</td>\n",
       "    </tr>\n",
       "    <tr>\n",
       "      <th>( Net Value Per Share (B),  Net Value Per Share (C))</th>\n",
       "      <td>0.999179</td>\n",
       "    </tr>\n",
       "    <tr>\n",
       "      <th>( Operating Profit Per Share (Yuan ¥),  Operating profit/Paid-in capital)</th>\n",
       "      <td>0.998696</td>\n",
       "    </tr>\n",
       "    <tr>\n",
       "      <th>( After-tax Net Profit Growth Rate,  Regular Net Profit Growth Rate)</th>\n",
       "      <td>0.996186</td>\n",
       "    </tr>\n",
       "    <tr>\n",
       "      <th>( Pre-tax net Interest Rate,  Continuous interest rate (after tax))</th>\n",
       "      <td>0.993617</td>\n",
       "    </tr>\n",
       "  </tbody>\n",
       "</table>\n",
       "</div>"
      ],
      "text/plain": [
       "                                                    correlations\n",
       "pairs                                                           \n",
       "( Debt ratio %,  Net worth/Assets)                      1.000000\n",
       "( Gross Profit to Sales,  Operating Gross Margin)       1.000000\n",
       "( Net Value Per Share (C),  Net Value Per Share...      0.999837\n",
       "( Realized Sales Gross Margin,  Operating Gross...      0.999518\n",
       "( Realized Sales Gross Margin,  Gross Profit to...      0.999518\n",
       "( Net Value Per Share (A),  Net Value Per Share...      0.999342\n",
       "( Net Value Per Share (B),  Net Value Per Share...      0.999179\n",
       "( Operating Profit Per Share (Yuan ¥),  Operati...      0.998696\n",
       "( After-tax Net Profit Growth Rate,  Regular Ne...      0.996186\n",
       "( Pre-tax net Interest Rate,  Continuous intere...      0.993617"
      ]
     },
     "execution_count": 9,
     "metadata": {},
     "output_type": "execute_result"
    }
   ],
   "source": [
    "#looking for collinearity of predictive variables\n",
    "# code from https://github.com/learn-co-curriculum/dsc-multicollinearity-of-features\n",
    "predictors = df.drop('Bankrupt?', axis=1)\n",
    "\n",
    "predictor=predictors.corr().abs().stack().reset_index().sort_values(0, ascending=False)\n",
    "\n",
    "predictor['pairs'] = list(zip(predictor.level_0, predictor.level_1))\n",
    "predictor.set_index(['pairs'], inplace = True)\n",
    "predictor.drop(columns=['level_1', 'level_0'], inplace = True)\n",
    "predictor.columns = ['correlations']\n",
    "predictor.drop_duplicates(inplace=True)\n",
    "\n",
    "predictor[(predictor['correlations']<1)&(predictor['correlations']>=0.99)]"
   ]
  },
  {
   "cell_type": "markdown",
   "id": "e7969dc0",
   "metadata": {},
   "source": [
    "Because we'll be using regularization for feature selection, we don't need to be aggressive in paring down features at this point. However, the top two pairs are perfectly correlated because they correspond to the accounting identity:\n",
    "\n",
    "Debt ratio % = 1 - Net worth/Assets \n",
    "\n",
    "and the definitional identity\n",
    "\n",
    "Gross Profit to Sales = Operating Gross Margin\n",
    "\n",
    "So there's no possible reason why we would want to keep them. It's possible that some of the differences between the other features may be important for future models so we'll leave them in."
   ]
  },
  {
   "cell_type": "code",
   "execution_count": 10,
   "id": "32e41d0e",
   "metadata": {},
   "outputs": [],
   "source": [
    "## Eliminating perfectly correlated variables\n",
    "\n",
    "df = df.drop([' Debt ratio %', ' Gross Profit to Sales'], axis=1)"
   ]
  },
  {
   "cell_type": "markdown",
   "id": "cca4983a",
   "metadata": {},
   "source": [
    "### Splitting Data"
   ]
  },
  {
   "cell_type": "code",
   "execution_count": 11,
   "id": "5e9c0d0c",
   "metadata": {},
   "outputs": [],
   "source": [
    "#splitting predictor and target variables\n",
    "\n",
    "y= df['Bankrupt?']\n",
    "X = df.drop('Bankrupt?', axis=1)"
   ]
  },
  {
   "cell_type": "code",
   "execution_count": 12,
   "id": "b924dcfa",
   "metadata": {},
   "outputs": [],
   "source": [
    "#splitting data into training set and testing set\n",
    "\n",
    "X_train, X_test, y_train, y_test = train_test_split(X, y, random_state=42)"
   ]
  },
  {
   "cell_type": "markdown",
   "id": "ffe79907",
   "metadata": {},
   "source": [
    "## First model: Logistic Regression\n",
    "\n",
    "I'll first build a linear regression model, using gridsearch to choose between Lasso and Ridge regression and to tune the regularization parameter C. I'm including a standard scaler in the pipeline, which will allow us to interpret feature effects in terms of z-scores. I'm also balancing the weight of the classes so that the model won't be biased towards predicting the majority class. "
   ]
  },
  {
   "cell_type": "code",
   "execution_count": 13,
   "id": "3fad8b10",
   "metadata": {},
   "outputs": [],
   "source": [
    "pipe = Pipeline([('scaler', StandardScaler()),\n",
    "                 ('logreg', LogisticRegression(class_weight='balanced', solver='liblinear', max_iter=500, random_state=42))])\n",
    "\n",
    "grid = [{'logreg__penalty': ['l1', 'l2'],\n",
    "         'logreg__C': [np.e**i for i in range(-2, 3)],\n",
    "        }]\n",
    "\n",
    "gs_logreg = GridSearchCV(estimator=pipe,\n",
    "                         param_grid=grid,\n",
    "                         scoring='f1',\n",
    "                         cv=5)"
   ]
  },
  {
   "cell_type": "code",
   "execution_count": 14,
   "id": "976de76a",
   "metadata": {},
   "outputs": [
    {
     "data": {
      "text/plain": [
       "GridSearchCV(cv=5,\n",
       "             estimator=Pipeline(steps=[('scaler', StandardScaler()),\n",
       "                                       ('logreg',\n",
       "                                        LogisticRegression(class_weight='balanced',\n",
       "                                                           max_iter=500,\n",
       "                                                           random_state=42,\n",
       "                                                           solver='liblinear'))]),\n",
       "             param_grid=[{'logreg__C': [0.1353352832366127, 0.36787944117144233,\n",
       "                                        1.0, 2.718281828459045,\n",
       "                                        7.3890560989306495],\n",
       "                          'logreg__penalty': ['l1', 'l2']}],\n",
       "             scoring='f1')"
      ]
     },
     "execution_count": 14,
     "metadata": {},
     "output_type": "execute_result"
    }
   ],
   "source": [
    "gs_logreg.fit(X_train, y_train)"
   ]
  },
  {
   "cell_type": "markdown",
   "id": "49245af2",
   "metadata": {},
   "source": [
    "### Regularization of Logistic Regression Model\n",
    "\n",
    "Below we see that GridSearch selected Lasso (L1) Regularization, with a regularization hyper-parameter of e^-1. In the next cell, we see that regularization trimmed 21 features from the model by bringing their coefficients down to zero."
   ]
  },
  {
   "cell_type": "code",
   "execution_count": 15,
   "id": "f08c1229",
   "metadata": {},
   "outputs": [
    {
     "data": {
      "text/plain": [
       "{'logreg__C': 0.36787944117144233, 'logreg__penalty': 'l1'}"
      ]
     },
     "execution_count": 15,
     "metadata": {},
     "output_type": "execute_result"
    }
   ],
   "source": [
    "gs_logreg.best_params_"
   ]
  },
  {
   "cell_type": "code",
   "execution_count": 16,
   "id": "216b2e68",
   "metadata": {},
   "outputs": [
    {
     "data": {
      "text/plain": [
       "21"
      ]
     },
     "execution_count": 16,
     "metadata": {},
     "output_type": "execute_result"
    }
   ],
   "source": [
    "coefs = pd.DataFrame(gs_logreg.best_estimator_.steps[1][1].coef_, columns=X.columns)\n",
    "coefs = coefs.transpose()\n",
    "coefs.rename(columns={0:'coefficient'}, inplace=True)\n",
    "coefs['|coefficient|']=coefs['coefficient'].abs()\n",
    "coefs[coefs['coefficient']==0].shape[0]"
   ]
  },
  {
   "cell_type": "markdown",
   "id": "a0e28a5f",
   "metadata": {},
   "source": [
    "And here we can see the five largest coefficients in our model by absolute value."
   ]
  },
  {
   "cell_type": "code",
   "execution_count": 17,
   "id": "d71868aa",
   "metadata": {},
   "outputs": [
    {
     "data": {
      "text/html": [
       "<div>\n",
       "<style scoped>\n",
       "    .dataframe tbody tr th:only-of-type {\n",
       "        vertical-align: middle;\n",
       "    }\n",
       "\n",
       "    .dataframe tbody tr th {\n",
       "        vertical-align: top;\n",
       "    }\n",
       "\n",
       "    .dataframe thead th {\n",
       "        text-align: right;\n",
       "    }\n",
       "</style>\n",
       "<table border=\"1\" class=\"dataframe\">\n",
       "  <thead>\n",
       "    <tr style=\"text-align: right;\">\n",
       "      <th></th>\n",
       "      <th>coefficient</th>\n",
       "      <th>|coefficient|</th>\n",
       "    </tr>\n",
       "  </thead>\n",
       "  <tbody>\n",
       "    <tr>\n",
       "      <th>Persistent EPS in the Last Four Seasons</th>\n",
       "      <td>-2.136638</td>\n",
       "      <td>2.136638</td>\n",
       "    </tr>\n",
       "    <tr>\n",
       "      <th>Operating profit/Paid-in capital</th>\n",
       "      <td>1.864492</td>\n",
       "      <td>1.864492</td>\n",
       "    </tr>\n",
       "    <tr>\n",
       "      <th>Net worth/Assets</th>\n",
       "      <td>-1.638927</td>\n",
       "      <td>1.638927</td>\n",
       "    </tr>\n",
       "    <tr>\n",
       "      <th>Borrowing dependency</th>\n",
       "      <td>1.370497</td>\n",
       "      <td>1.370497</td>\n",
       "    </tr>\n",
       "    <tr>\n",
       "      <th>Inventory and accounts receivable/Net value</th>\n",
       "      <td>-0.910537</td>\n",
       "      <td>0.910537</td>\n",
       "    </tr>\n",
       "  </tbody>\n",
       "</table>\n",
       "</div>"
      ],
      "text/plain": [
       "                                              coefficient  |coefficient|\n",
       " Persistent EPS in the Last Four Seasons        -2.136638       2.136638\n",
       " Operating profit/Paid-in capital                1.864492       1.864492\n",
       " Net worth/Assets                               -1.638927       1.638927\n",
       " Borrowing dependency                            1.370497       1.370497\n",
       " Inventory and accounts receivable/Net value    -0.910537       0.910537"
      ]
     },
     "execution_count": 17,
     "metadata": {},
     "output_type": "execute_result"
    }
   ],
   "source": [
    "coefs.sort_values('|coefficient|', ascending=False).head()"
   ]
  },
  {
   "cell_type": "markdown",
   "id": "aafc7bf0",
   "metadata": {},
   "source": [
    "### Performance of Logistic Regression Model\n",
    "\n",
    "Below are the confusion matrices and classification reports for our Logistic Regression Model. It looks like the model is overfitting on the training data, since it gives us a bankruptcy recall of 91% on the training data and only 81% on the testing data at a 50% probability threshold. However, because bankruptcies make up only 3% of the data set, we might expect this difference to be a result of random bias in the train test split rather than overfitting. There is only a 3% decline in f1, which is a more relevant indication of the model's variance. This hypothesis is supported by the fact that the gridsearch selected C=e^-1 over more aggressive regularization that would in theory have reduced overfitting if it was occuring."
   ]
  },
  {
   "cell_type": "markdown",
   "id": "491bc8d4",
   "metadata": {},
   "source": [
    "#### Logistic Regression Training Results"
   ]
  },
  {
   "cell_type": "code",
   "execution_count": 18,
   "id": "fd080ae2",
   "metadata": {},
   "outputs": [
    {
     "data": {
      "text/plain": [
       "<sklearn.metrics._plot.confusion_matrix.ConfusionMatrixDisplay at 0x7f9159296910>"
      ]
     },
     "execution_count": 18,
     "metadata": {},
     "output_type": "execute_result"
    },
    {
     "data": {
      "image/png": "[encoded data removed]",
      "text/plain": [
       "<Figure size 432x288 with 2 Axes>"
      ]
     },
     "metadata": {
      "needs_background": "light"
     },
     "output_type": "display_data"
    }
   ],
   "source": [
    "plot_confusion_matrix(gs_logreg, X_train, y_train)"
   ]
  },
  {
   "cell_type": "code",
   "execution_count": 19,
   "id": "75addd24",
   "metadata": {},
   "outputs": [
    {
     "name": "stdout",
     "output_type": "stream",
     "text": [
      "              precision    recall  f1-score   support\n",
      "\n",
      "           0       1.00      0.88      0.94      4952\n",
      "           1       0.20      0.91      0.33       162\n",
      "\n",
      "    accuracy                           0.88      5114\n",
      "   macro avg       0.60      0.90      0.63      5114\n",
      "weighted avg       0.97      0.88      0.92      5114\n",
      "\n"
     ]
    }
   ],
   "source": [
    "y_pred = gs_logreg.predict(X_train)\n",
    "print(classification_report(y_train, y_pred))"
   ]
  },
  {
   "cell_type": "markdown",
   "id": "acfde9e1",
   "metadata": {},
   "source": [
    "#### Logistic Regression Testing Results"
   ]
  },
  {
   "cell_type": "code",
   "execution_count": 20,
   "id": "ea83c832",
   "metadata": {},
   "outputs": [
    {
     "data": {
      "text/plain": [
       "<sklearn.metrics._plot.confusion_matrix.ConfusionMatrixDisplay at 0x7f914a93da90>"
      ]
     },
     "execution_count": 20,
     "metadata": {},
     "output_type": "execute_result"
    },
    {
     "data": {
      "image/png": "[encoded data removed]",
      "text/plain": [
       "<Figure size 432x288 with 2 Axes>"
      ]
     },
     "metadata": {
      "needs_background": "light"
     },
     "output_type": "display_data"
    }
   ],
   "source": [
    "plot_confusion_matrix(gs_logreg, X_test, y_test)"
   ]
  },
  {
   "cell_type": "code",
   "execution_count": 21,
   "id": "432769a3",
   "metadata": {},
   "outputs": [
    {
     "name": "stdout",
     "output_type": "stream",
     "text": [
      "              precision    recall  f1-score   support\n",
      "\n",
      "           0       0.99      0.87      0.93      1647\n",
      "           1       0.18      0.81      0.30        58\n",
      "\n",
      "    accuracy                           0.87      1705\n",
      "   macro avg       0.59      0.84      0.61      1705\n",
      "weighted avg       0.96      0.87      0.91      1705\n",
      "\n"
     ]
    }
   ],
   "source": [
    "y_pred = gs_logreg.predict(X_test)\n",
    "print(classification_report(y_test, y_pred))"
   ]
  },
  {
   "cell_type": "markdown",
   "id": "dcbe75d5",
   "metadata": {},
   "source": [
    "###  The Precision Recall Curve\n",
    "\n",
    "Since finance is inherently based on risk and uncertainty, these results shouldn't necessarily be discouraging. Our model's decision function is based on a 50% probability threshold but we can easily change this threshold if we want to adjust the balance between precision and recall. \n",
    "\n",
    "The Precision Recall curve below shows how increasing the probability threshold for our decision function affects the precision/recall tradeoff. On the curve we plot four vertical lines that correspond to:\n",
    "\n",
    "- maximal precision threshold\n",
    "- 50% precision threshold\n",
    "- 50% probability threshold\n",
    "- maximal recall threshold"
   ]
  },
  {
   "cell_type": "code",
   "execution_count": 22,
   "id": "ec71125f",
   "metadata": {},
   "outputs": [],
   "source": [
    "#getting probabilities for decision function\n",
    "\n",
    "y_probs = [n[1] for n in gs_logreg.predict_proba(X_test)]\n",
    "\n",
    "# getting precision recall curve\n",
    "\n",
    "precision, recall, thresholds = precision_recall_curve(y_test, y_probs)\n",
    "\n",
    "# creating a dataframe to for precision recall tradeoff\n",
    "\n",
    "thresholds_df = pd.DataFrame(thresholds.reshape(-1,1), columns=['thresholds'])\n",
    "precision_df = pd.DataFrame(precision.reshape(-1,1), columns=['precision'])\n",
    "recall_df = pd.DataFrame(recall.reshape(-1,1), columns=['recall'])\n",
    "\n",
    "precision_recall_df = pd.concat([thresholds_df, recall_df, precision_df], axis=1)"
   ]
  },
  {
   "cell_type": "code",
   "execution_count": 23,
   "id": "a24f9812",
   "metadata": {},
   "outputs": [
    {
     "data": {
      "text/html": [
       "<div>\n",
       "<style scoped>\n",
       "    .dataframe tbody tr th:only-of-type {\n",
       "        vertical-align: middle;\n",
       "    }\n",
       "\n",
       "    .dataframe tbody tr th {\n",
       "        vertical-align: top;\n",
       "    }\n",
       "\n",
       "    .dataframe thead th {\n",
       "        text-align: right;\n",
       "    }\n",
       "</style>\n",
       "<table border=\"1\" class=\"dataframe\">\n",
       "  <thead>\n",
       "    <tr style=\"text-align: right;\">\n",
       "      <th></th>\n",
       "      <th>thresholds</th>\n",
       "      <th>recall</th>\n",
       "      <th>precision</th>\n",
       "    </tr>\n",
       "  </thead>\n",
       "  <tbody>\n",
       "    <tr>\n",
       "      <th>1703</th>\n",
       "      <td>NaN</td>\n",
       "      <td>0.000000</td>\n",
       "      <td>1.000000</td>\n",
       "    </tr>\n",
       "    <tr>\n",
       "      <th>1702</th>\n",
       "      <td>1.000000</td>\n",
       "      <td>0.017241</td>\n",
       "      <td>1.000000</td>\n",
       "    </tr>\n",
       "    <tr>\n",
       "      <th>1701</th>\n",
       "      <td>0.999984</td>\n",
       "      <td>0.034483</td>\n",
       "      <td>1.000000</td>\n",
       "    </tr>\n",
       "    <tr>\n",
       "      <th>1700</th>\n",
       "      <td>0.999969</td>\n",
       "      <td>0.051724</td>\n",
       "      <td>1.000000</td>\n",
       "    </tr>\n",
       "    <tr>\n",
       "      <th>1699</th>\n",
       "      <td>0.999926</td>\n",
       "      <td>0.068966</td>\n",
       "      <td>1.000000</td>\n",
       "    </tr>\n",
       "    <tr>\n",
       "      <th>1698</th>\n",
       "      <td>0.999896</td>\n",
       "      <td>0.086207</td>\n",
       "      <td>1.000000</td>\n",
       "    </tr>\n",
       "    <tr>\n",
       "      <th>1697</th>\n",
       "      <td>0.999894</td>\n",
       "      <td>0.103448</td>\n",
       "      <td>1.000000</td>\n",
       "    </tr>\n",
       "    <tr>\n",
       "      <th>1693</th>\n",
       "      <td>0.999001</td>\n",
       "      <td>0.155172</td>\n",
       "      <td>0.900000</td>\n",
       "    </tr>\n",
       "    <tr>\n",
       "      <th>1694</th>\n",
       "      <td>0.999531</td>\n",
       "      <td>0.137931</td>\n",
       "      <td>0.888889</td>\n",
       "    </tr>\n",
       "    <tr>\n",
       "      <th>1695</th>\n",
       "      <td>0.999637</td>\n",
       "      <td>0.120690</td>\n",
       "      <td>0.875000</td>\n",
       "    </tr>\n",
       "  </tbody>\n",
       "</table>\n",
       "</div>"
      ],
      "text/plain": [
       "      thresholds    recall  precision\n",
       "1703         NaN  0.000000   1.000000\n",
       "1702    1.000000  0.017241   1.000000\n",
       "1701    0.999984  0.034483   1.000000\n",
       "1700    0.999969  0.051724   1.000000\n",
       "1699    0.999926  0.068966   1.000000\n",
       "1698    0.999896  0.086207   1.000000\n",
       "1697    0.999894  0.103448   1.000000\n",
       "1693    0.999001  0.155172   0.900000\n",
       "1694    0.999531  0.137931   0.888889\n",
       "1695    0.999637  0.120690   0.875000"
      ]
     },
     "execution_count": 23,
     "metadata": {},
     "output_type": "execute_result"
    }
   ],
   "source": [
    "# using data frame to find probability threshold that maximizes precision\n",
    "precision_recall_df.sort_values('precision', ascending=False).head(10)"
   ]
  },
  {
   "cell_type": "code",
   "execution_count": 24,
   "id": "16d9f4d5",
   "metadata": {},
   "outputs": [
    {
     "name": "stderr",
     "output_type": "stream",
     "text": [
      "/var/folders/gs/xqppcy254vd2q7ybhjlcr_pr0000gn/T/ipykernel_1074/135742946.py:3: UserWarning: Boolean Series key will be reindexed to match DataFrame index.\n",
      "  precision_recall_df.sort_values('precision', ascending=False)[(precision_recall_df['precision']>0.499)&(precision_recall_df['precision']<0.501)]\n"
     ]
    },
    {
     "data": {
      "text/html": [
       "<div>\n",
       "<style scoped>\n",
       "    .dataframe tbody tr th:only-of-type {\n",
       "        vertical-align: middle;\n",
       "    }\n",
       "\n",
       "    .dataframe tbody tr th {\n",
       "        vertical-align: top;\n",
       "    }\n",
       "\n",
       "    .dataframe thead th {\n",
       "        text-align: right;\n",
       "    }\n",
       "</style>\n",
       "<table border=\"1\" class=\"dataframe\">\n",
       "  <thead>\n",
       "    <tr style=\"text-align: right;\">\n",
       "      <th></th>\n",
       "      <th>thresholds</th>\n",
       "      <th>recall</th>\n",
       "      <th>precision</th>\n",
       "    </tr>\n",
       "  </thead>\n",
       "  <tbody>\n",
       "    <tr>\n",
       "      <th>1661</th>\n",
       "      <td>0.954154</td>\n",
       "      <td>0.362069</td>\n",
       "      <td>0.5</td>\n",
       "    </tr>\n",
       "    <tr>\n",
       "      <th>1659</th>\n",
       "      <td>0.951774</td>\n",
       "      <td>0.379310</td>\n",
       "      <td>0.5</td>\n",
       "    </tr>\n",
       "    <tr>\n",
       "      <th>1655</th>\n",
       "      <td>0.943600</td>\n",
       "      <td>0.413793</td>\n",
       "      <td>0.5</td>\n",
       "    </tr>\n",
       "  </tbody>\n",
       "</table>\n",
       "</div>"
      ],
      "text/plain": [
       "      thresholds    recall  precision\n",
       "1661    0.954154  0.362069        0.5\n",
       "1659    0.951774  0.379310        0.5\n",
       "1655    0.943600  0.413793        0.5"
      ]
     },
     "execution_count": 24,
     "metadata": {},
     "output_type": "execute_result"
    }
   ],
   "source": [
    "# finding threshold that results in 50% precision\n",
    "\n",
    "precision_recall_df.sort_values('precision', ascending=False)[(precision_recall_df['precision']>0.499)&(precision_recall_df['precision']<0.501)]"
   ]
  },
  {
   "cell_type": "code",
   "execution_count": 25,
   "id": "b58d7f4b",
   "metadata": {},
   "outputs": [
    {
     "name": "stderr",
     "output_type": "stream",
     "text": [
      "/var/folders/gs/xqppcy254vd2q7ybhjlcr_pr0000gn/T/ipykernel_1074/1481358799.py:3: UserWarning: Boolean Series key will be reindexed to match DataFrame index.\n",
      "  precision_recall_df.sort_values('precision', ascending=False)[(precision_recall_df['thresholds']>0.499)&(precision_recall_df['thresholds']<0.501)]\n"
     ]
    },
    {
     "data": {
      "text/html": [
       "<div>\n",
       "<style scoped>\n",
       "    .dataframe tbody tr th:only-of-type {\n",
       "        vertical-align: middle;\n",
       "    }\n",
       "\n",
       "    .dataframe tbody tr th {\n",
       "        vertical-align: top;\n",
       "    }\n",
       "\n",
       "    .dataframe thead th {\n",
       "        text-align: right;\n",
       "    }\n",
       "</style>\n",
       "<table border=\"1\" class=\"dataframe\">\n",
       "  <thead>\n",
       "    <tr style=\"text-align: right;\">\n",
       "      <th></th>\n",
       "      <th>thresholds</th>\n",
       "      <th>recall</th>\n",
       "      <th>precision</th>\n",
       "    </tr>\n",
       "  </thead>\n",
       "  <tbody>\n",
       "    <tr>\n",
       "      <th>1446</th>\n",
       "      <td>0.499918</td>\n",
       "      <td>0.810345</td>\n",
       "      <td>0.182879</td>\n",
       "    </tr>\n",
       "  </tbody>\n",
       "</table>\n",
       "</div>"
      ],
      "text/plain": [
       "      thresholds    recall  precision\n",
       "1446    0.499918  0.810345   0.182879"
      ]
     },
     "execution_count": 25,
     "metadata": {},
     "output_type": "execute_result"
    }
   ],
   "source": [
    "# finding recall that corresponds to 50% probability\n",
    "\n",
    "precision_recall_df.sort_values('precision', ascending=False)[(precision_recall_df['thresholds']>0.499)&(precision_recall_df['thresholds']<0.501)]"
   ]
  },
  {
   "cell_type": "code",
   "execution_count": 26,
   "id": "91ed3e10",
   "metadata": {},
   "outputs": [
    {
     "data": {
      "text/html": [
       "<div>\n",
       "<style scoped>\n",
       "    .dataframe tbody tr th:only-of-type {\n",
       "        vertical-align: middle;\n",
       "    }\n",
       "\n",
       "    .dataframe tbody tr th {\n",
       "        vertical-align: top;\n",
       "    }\n",
       "\n",
       "    .dataframe thead th {\n",
       "        text-align: right;\n",
       "    }\n",
       "</style>\n",
       "<table border=\"1\" class=\"dataframe\">\n",
       "  <thead>\n",
       "    <tr style=\"text-align: right;\">\n",
       "      <th></th>\n",
       "      <th>thresholds</th>\n",
       "      <th>recall</th>\n",
       "      <th>precision</th>\n",
       "    </tr>\n",
       "  </thead>\n",
       "  <tbody>\n",
       "    <tr>\n",
       "      <th>0</th>\n",
       "      <td>1.558319e-27</td>\n",
       "      <td>1.000000</td>\n",
       "      <td>0.034058</td>\n",
       "    </tr>\n",
       "    <tr>\n",
       "      <th>1</th>\n",
       "      <td>6.928471e-14</td>\n",
       "      <td>0.982759</td>\n",
       "      <td>0.033490</td>\n",
       "    </tr>\n",
       "    <tr>\n",
       "      <th>2</th>\n",
       "      <td>7.343045e-10</td>\n",
       "      <td>0.982759</td>\n",
       "      <td>0.033510</td>\n",
       "    </tr>\n",
       "    <tr>\n",
       "      <th>3</th>\n",
       "      <td>4.249954e-09</td>\n",
       "      <td>0.982759</td>\n",
       "      <td>0.033529</td>\n",
       "    </tr>\n",
       "    <tr>\n",
       "      <th>4</th>\n",
       "      <td>2.321607e-07</td>\n",
       "      <td>0.982759</td>\n",
       "      <td>0.033549</td>\n",
       "    </tr>\n",
       "  </tbody>\n",
       "</table>\n",
       "</div>"
      ],
      "text/plain": [
       "     thresholds    recall  precision\n",
       "0  1.558319e-27  1.000000   0.034058\n",
       "1  6.928471e-14  0.982759   0.033490\n",
       "2  7.343045e-10  0.982759   0.033510\n",
       "3  4.249954e-09  0.982759   0.033529\n",
       "4  2.321607e-07  0.982759   0.033549"
      ]
     },
     "execution_count": 26,
     "metadata": {},
     "output_type": "execute_result"
    }
   ],
   "source": [
    "#finding the probability threshold for maximum recall\n",
    "\n",
    "precision_recall_df.sort_values('thresholds').head()"
   ]
  },
  {
   "cell_type": "code",
   "execution_count": 27,
   "id": "15eae7aa",
   "metadata": {
    "scrolled": true
   },
   "outputs": [
    {
     "data": {
      "image/png": "[encoded data removed]",
      "text/plain": [
       "<Figure size 720x432 with 1 Axes>"
      ]
     },
     "metadata": {
      "needs_background": "light"
     },
     "output_type": "display_data"
    }
   ],
   "source": [
    "fig, ax = plt.subplots(figsize=(10, 6))\n",
    "\n",
    "ax.plot(recall, precision, label='precision recall curve')\n",
    "\n",
    "ax.set_yticks([i/20.0 for i in range(21)])\n",
    "ax.set_xticks([i/20.0 for i in range(21)])\n",
    "ax.set_xlabel('Recall')\n",
    "ax.set_ylabel('Precision')\n",
    "ax.set_title('Precision Recall Curve')\n",
    "ax.axvline(x=0.103448, label='99.99% threshold', color='red')\n",
    "ax.axvline(x=0.413793, label='94.36% threshold', color='yellow')\n",
    "ax.axvline(x=0.810345, label='49.99% threshold', color='green')\n",
    "ax.axvline(x=1.00, label='8.29% threshold', color='blue')\n",
    "plt.legend(loc='upper right')\n",
    "plt.show()"
   ]
  },
  {
   "cell_type": "markdown",
   "id": "73f5b634",
   "metadata": {},
   "source": [
    "These four lines correspond to the following investment strategies.\n",
    "\n",
    "##### Blue: Below threshold, go long\n",
    "\n",
    "The blue line on the right (8.29% predicted probability of bankruptcy) represent the most conservative decision threshold. If we had guessed that every company above the 8.29% threshold would go bankrupt, 92% of the companies we labeled as bankrupt would have been false positives, but we would have also succeeded at finding every bankrupt company. If funds and investors are trying to minimize exposure to risk, even if it means missing out on potential profits, then they should only invest in companies that fall below the 8.29% bankruptcy probability threshold.\n",
    "\n",
    "##### Red: Above threshold, go short\n",
    "\n",
    "The red line on the left is also a conservative threshold (99.99% probability of bankruptcy), since every company in the test set that had a bankruptcy probability above 99.99% did in fact go bankrupt. While it's likely that the market is already bearish on these stocks and that this bearishness is already a part of our model, bankruptcy would likely reduce their value to zero, meaning that investors might be able to profit from shorting these stocks before they reach that point.\n",
    "\n",
    "##### Yellow: Below threshold, don't go short\n",
    "\n",
    "The yellow line represents the point at which our decision function yielded the same number of true positives and false positives in its bankruptcy predictions. This takes places when we set our probability threshold at 94.36%. Assuming that this is the only information we have, we shouldn't short stocks of companies that have less than 94.36% chance of bankruptcy, since below this threshold, we can expect every gain to be offset by a loss.\n",
    "\n",
    "##### Green: Above threshold, don't go long\n",
    "\n",
    "The green line represents the decision function using a 50% probability threshold, which is what we evaluated in our confusion matrix and classification report. This probability threshold is most useful to investors who are trying to balance opportunity with risk exposure. Investors who own a representative selection of stocks below this threshold are likely to see a 1% loss due to bankruptcies (as opposed to 3% from random investments), but may also see substantial returns from their willingness to go long on other stocks in this category."
   ]
  },
  {
   "cell_type": "markdown",
   "id": "10809847",
   "metadata": {},
   "source": [
    "Below, we can see how many companies fall to the left or the right of the thresholds described above."
   ]
  },
  {
   "cell_type": "code",
   "execution_count": 28,
   "id": "3eda3157",
   "metadata": {},
   "outputs": [
    {
     "data": {
      "text/plain": [
       "912"
      ]
     },
     "execution_count": 28,
     "metadata": {},
     "output_type": "execute_result"
    }
   ],
   "source": [
    "#companies with minimal (8.29%) likelihood of bankruptcy--no false negatives in test data.\n",
    "\n",
    "probs_df = pd.DataFrame(y_probs, columns=['probabilities'])\n",
    "probs_df[probs_df['probabilities']<0.0829].shape[0]"
   ]
  },
  {
   "cell_type": "code",
   "execution_count": 29,
   "id": "5620ecf2",
   "metadata": {},
   "outputs": [
    {
     "data": {
      "text/plain": [
       "4"
      ]
     },
     "execution_count": 29,
     "metadata": {},
     "output_type": "execute_result"
    }
   ],
   "source": [
    "#companies with maximal (99.99%) likelihood of bankruptcy--no false positives in test data:\n",
    "\n",
    "probs_df[probs_df['probabilities']>0.9999].shape[0]"
   ]
  },
  {
   "cell_type": "code",
   "execution_count": 30,
   "id": "78855c50",
   "metadata": {},
   "outputs": [
    {
     "data": {
      "text/plain": [
       "48"
      ]
     },
     "execution_count": 30,
     "metadata": {},
     "output_type": "execute_result"
    }
   ],
   "source": [
    "# companies with minimum 94.36% likelihood of bankruptcy--equal number of false positive and false negatives \n",
    "# in test data \n",
    "\n",
    "probs_df[probs_df['probabilities']>0.9436].shape[0]"
   ]
  },
  {
   "cell_type": "code",
   "execution_count": 31,
   "id": "9ffb631e",
   "metadata": {},
   "outputs": [
    {
     "data": {
      "text/plain": [
       "1449"
      ]
     },
     "execution_count": 31,
     "metadata": {},
     "output_type": "execute_result"
    }
   ],
   "source": [
    "# companies with maximum 50.00% likelihood of bankruptcy--1% false negatives in test data.\n",
    "\n",
    "probs_df[probs_df['probabilities']<0.5].shape[0]"
   ]
  },
  {
   "cell_type": "markdown",
   "id": "484f0ca6",
   "metadata": {},
   "source": [
    "### Test Cases"
   ]
  },
  {
   "cell_type": "markdown",
   "id": "d433bc35",
   "metadata": {},
   "source": [
    "Let's see the accuracy of this model's predictions on the first five rows of the testing set."
   ]
  },
  {
   "cell_type": "code",
   "execution_count": 32,
   "id": "28e45197",
   "metadata": {},
   "outputs": [
    {
     "data": {
      "text/html": [
       "<div>\n",
       "<style scoped>\n",
       "    .dataframe tbody tr th:only-of-type {\n",
       "        vertical-align: middle;\n",
       "    }\n",
       "\n",
       "    .dataframe tbody tr th {\n",
       "        vertical-align: top;\n",
       "    }\n",
       "\n",
       "    .dataframe thead th {\n",
       "        text-align: right;\n",
       "    }\n",
       "</style>\n",
       "<table border=\"1\" class=\"dataframe\">\n",
       "  <thead>\n",
       "    <tr style=\"text-align: right;\">\n",
       "      <th></th>\n",
       "      <th>predictions</th>\n",
       "      <th>Bankrupt?</th>\n",
       "      <th>prob 0</th>\n",
       "      <th>prob 1</th>\n",
       "    </tr>\n",
       "  </thead>\n",
       "  <tbody>\n",
       "    <tr>\n",
       "      <th>0</th>\n",
       "      <td>0</td>\n",
       "      <td>0</td>\n",
       "      <td>0.947431</td>\n",
       "      <td>0.052569</td>\n",
       "    </tr>\n",
       "    <tr>\n",
       "      <th>1</th>\n",
       "      <td>0</td>\n",
       "      <td>0</td>\n",
       "      <td>0.872051</td>\n",
       "      <td>0.127949</td>\n",
       "    </tr>\n",
       "    <tr>\n",
       "      <th>2</th>\n",
       "      <td>0</td>\n",
       "      <td>0</td>\n",
       "      <td>0.994454</td>\n",
       "      <td>0.005546</td>\n",
       "    </tr>\n",
       "    <tr>\n",
       "      <th>3</th>\n",
       "      <td>1</td>\n",
       "      <td>1</td>\n",
       "      <td>0.056240</td>\n",
       "      <td>0.943760</td>\n",
       "    </tr>\n",
       "    <tr>\n",
       "      <th>4</th>\n",
       "      <td>1</td>\n",
       "      <td>0</td>\n",
       "      <td>0.379175</td>\n",
       "      <td>0.620825</td>\n",
       "    </tr>\n",
       "  </tbody>\n",
       "</table>\n",
       "</div>"
      ],
      "text/plain": [
       "   predictions  Bankrupt?    prob 0    prob 1\n",
       "0            0          0  0.947431  0.052569\n",
       "1            0          0  0.872051  0.127949\n",
       "2            0          0  0.994454  0.005546\n",
       "3            1          1  0.056240  0.943760\n",
       "4            1          0  0.379175  0.620825"
      ]
     },
     "execution_count": 32,
     "metadata": {},
     "output_type": "execute_result"
    }
   ],
   "source": [
    "predictions = pd.DataFrame(gs_logreg.predict(X_test.iloc[:5,:]).reshape(-1,1), columns=['predictions'])\n",
    "actual = pd.DataFrame(y_test.iloc[:5])\n",
    "actual.reset_index(drop=True, inplace=True)\n",
    "probabilities = pd.DataFrame(gs_logreg.predict_proba(X_test.iloc[:5,:]), columns=['prob 0', 'prob 1'])\n",
    "pd.concat([predictions, actual, probabilities], axis=1)"
   ]
  },
  {
   "cell_type": "markdown",
   "id": "b7bb8642",
   "metadata": {},
   "source": [
    "As we see above, out of the first five predictions in our test set, we have three true negatives, one true positive, and one false positive. In the case of the false positive (Row 4), our decision function gave 62% odds that this company would go bankrupt, so it's unsurprising that this guess turned out to be wrong, since we would expect predictions with this probability to be wrong in one out of three cases. On the other hand, the value of the probability prediction was 94% for Row 3, so it's not surprising that this prediction turned out to be correct, since we should expected predictions with this probability to be wrong in only 6 out of 100 cases."
   ]
  },
  {
   "cell_type": "markdown",
   "id": "72a1b7fe",
   "metadata": {},
   "source": [
    "Next, we'll look at both the true positive (the company that did go bankrupt) and false positive (the company that didn't) in closer detail."
   ]
  },
  {
   "cell_type": "markdown",
   "id": "227f8be8",
   "metadata": {},
   "source": [
    "#### Function for getting top probability factors per row"
   ]
  },
  {
   "cell_type": "code",
   "execution_count": 33,
   "id": "ebfe8f95",
   "metadata": {},
   "outputs": [],
   "source": [
    "def get_probability_factor_table(row):\n",
    "    \n",
    "    #comparing data for the true positive with summary statistics\n",
    "    comparison = pd.concat([X_test.iloc[row,:], X.mean(), X.std()], axis=1) \n",
    "    \n",
    "    # renaming columns\n",
    "    comparison.rename(columns={X_test.iloc[row,:].name: 'sample', 0: 'mean', 1: 'std'}, inplace=True) \n",
    "    \n",
    "    #engineering z-scores\n",
    "    comparison['z_score'] = ((comparison['sample'] - comparison['mean'])/comparison['std']) \n",
    "    \n",
    "    #merging with model coefficients dataframe\n",
    "    comparison = comparison.merge(coefs, how='inner', left_on=comparison.index, right_on=coefs.index) \n",
    "    \n",
    "    # dropping absolute value\n",
    "    comparison = comparison.drop('|coefficient|', axis=1) \n",
    "       \n",
    "    #calculating probability factor for each coefficient\n",
    "    comparison['probability factor'] = np.e**(comparison['z_score']*comparison['coefficient']) \n",
    "    \n",
    "    #renaming first column 'feature'\n",
    "    comparison.rename(columns={'key_0': 'feature'}, inplace=True)\n",
    "    \n",
    "    #return top of data frame\n",
    "    return comparison.sort_values(by='probability factor', ascending=False).head()\n",
    "    "
   ]
  },
  {
   "cell_type": "markdown",
   "id": "781b3ecb",
   "metadata": {},
   "source": [
    "#### Test Case 1: The True Positive"
   ]
  },
  {
   "cell_type": "code",
   "execution_count": 34,
   "id": "32461feb",
   "metadata": {},
   "outputs": [
    {
     "data": {
      "text/html": [
       "<div>\n",
       "<style scoped>\n",
       "    .dataframe tbody tr th:only-of-type {\n",
       "        vertical-align: middle;\n",
       "    }\n",
       "\n",
       "    .dataframe tbody tr th {\n",
       "        vertical-align: top;\n",
       "    }\n",
       "\n",
       "    .dataframe thead th {\n",
       "        text-align: right;\n",
       "    }\n",
       "</style>\n",
       "<table border=\"1\" class=\"dataframe\">\n",
       "  <thead>\n",
       "    <tr style=\"text-align: right;\">\n",
       "      <th></th>\n",
       "      <th>feature</th>\n",
       "      <th>sample</th>\n",
       "      <th>mean</th>\n",
       "      <th>std</th>\n",
       "      <th>z_score</th>\n",
       "      <th>coefficient</th>\n",
       "      <th>probability factor</th>\n",
       "    </tr>\n",
       "  </thead>\n",
       "  <tbody>\n",
       "    <tr>\n",
       "      <th>27</th>\n",
       "      <td>Net worth/Assets</td>\n",
       "      <td>0.772682</td>\n",
       "      <td>0.886823</td>\n",
       "      <td>0.053920</td>\n",
       "      <td>-2.116846</td>\n",
       "      <td>-1.638927</td>\n",
       "      <td>32.116041</td>\n",
       "    </tr>\n",
       "    <tr>\n",
       "      <th>15</th>\n",
       "      <td>Persistent EPS in the Last Four Seasons</td>\n",
       "      <td>0.189279</td>\n",
       "      <td>0.228813</td>\n",
       "      <td>0.033263</td>\n",
       "      <td>-1.188549</td>\n",
       "      <td>-2.136638</td>\n",
       "      <td>12.673299</td>\n",
       "    </tr>\n",
       "    <tr>\n",
       "      <th>29</th>\n",
       "      <td>Borrowing dependency</td>\n",
       "      <td>0.393783</td>\n",
       "      <td>0.374654</td>\n",
       "      <td>0.016286</td>\n",
       "      <td>1.174512</td>\n",
       "      <td>1.370497</td>\n",
       "      <td>5.001135</td>\n",
       "    </tr>\n",
       "    <tr>\n",
       "      <th>61</th>\n",
       "      <td>Net Income to Total Assets</td>\n",
       "      <td>0.767650</td>\n",
       "      <td>0.807760</td>\n",
       "      <td>0.040332</td>\n",
       "      <td>-0.994496</td>\n",
       "      <td>-0.860077</td>\n",
       "      <td>2.352182</td>\n",
       "    </tr>\n",
       "    <tr>\n",
       "      <th>0</th>\n",
       "      <td>ROA(C) before interest and depreciation befor...</td>\n",
       "      <td>0.436942</td>\n",
       "      <td>0.505180</td>\n",
       "      <td>0.060686</td>\n",
       "      <td>-1.124437</td>\n",
       "      <td>-0.565790</td>\n",
       "      <td>1.889279</td>\n",
       "    </tr>\n",
       "  </tbody>\n",
       "</table>\n",
       "</div>"
      ],
      "text/plain": [
       "                                              feature    sample      mean  \\\n",
       "27                                   Net worth/Assets  0.772682  0.886823   \n",
       "15            Persistent EPS in the Last Four Seasons  0.189279  0.228813   \n",
       "29                               Borrowing dependency  0.393783  0.374654   \n",
       "61                         Net Income to Total Assets  0.767650  0.807760   \n",
       "0    ROA(C) before interest and depreciation befor...  0.436942  0.505180   \n",
       "\n",
       "         std   z_score  coefficient  probability factor  \n",
       "27  0.053920 -2.116846    -1.638927           32.116041  \n",
       "15  0.033263 -1.188549    -2.136638           12.673299  \n",
       "29  0.016286  1.174512     1.370497            5.001135  \n",
       "61  0.040332 -0.994496    -0.860077            2.352182  \n",
       "0   0.060686 -1.124437    -0.565790            1.889279  "
      ]
     },
     "execution_count": 34,
     "metadata": {},
     "output_type": "execute_result"
    }
   ],
   "source": [
    "get_probability_factor_table(3)"
   ]
  },
  {
   "cell_type": "markdown",
   "id": "0b15b707",
   "metadata": {},
   "source": [
    "In the table above, the column 'sample' shows the values for a company that was correctly predicted to go bankrupt.\n",
    "\n",
    "The z_score represents how many standard deviations the variable is from the mean. This means, for example, that if the ratio of net worth to assets is 1 standard deviation above the mean, that this raises the odds of bankruptcy by a factor of e^(-1.64 * z_score). If the z-score is positive, it means that the probability factor is less than 1 and the odds of bankruptcy are lowered. If the z-score is negative, then e is raised to a positive power and the probability of bankruptcy is raised.\n",
    "\n",
    "This particular company has a very low z-score of -2.12 for its net worth/assets ratio. Since e^(-2.12 * -1.88)=32.12, this statistic raises the company's probability of bankruptcy by a factor of 32.12\n",
    "\n",
    "Net worth = Assets - liabilities, which means that by definition, a company with a net/worth assets ratio that is over two standard deviations below the mean, has a debt to assets ratio that is two standard deviations above the mean. It shouldn't be at all surprising that this ratio had a large effect in predicting this company's bankruptcy. "
   ]
  },
  {
   "cell_type": "markdown",
   "id": "0154d49e",
   "metadata": {},
   "source": [
    "#### Test Case 2: The False Positive"
   ]
  },
  {
   "cell_type": "code",
   "execution_count": 35,
   "id": "a5447b5b",
   "metadata": {
    "scrolled": true
   },
   "outputs": [
    {
     "data": {
      "text/html": [
       "<div>\n",
       "<style scoped>\n",
       "    .dataframe tbody tr th:only-of-type {\n",
       "        vertical-align: middle;\n",
       "    }\n",
       "\n",
       "    .dataframe tbody tr th {\n",
       "        vertical-align: top;\n",
       "    }\n",
       "\n",
       "    .dataframe thead th {\n",
       "        text-align: right;\n",
       "    }\n",
       "</style>\n",
       "<table border=\"1\" class=\"dataframe\">\n",
       "  <thead>\n",
       "    <tr style=\"text-align: right;\">\n",
       "      <th></th>\n",
       "      <th>feature</th>\n",
       "      <th>sample</th>\n",
       "      <th>mean</th>\n",
       "      <th>std</th>\n",
       "      <th>z_score</th>\n",
       "      <th>coefficient</th>\n",
       "      <th>probability factor</th>\n",
       "    </tr>\n",
       "  </thead>\n",
       "  <tbody>\n",
       "    <tr>\n",
       "      <th>27</th>\n",
       "      <td>Net worth/Assets</td>\n",
       "      <td>0.817305</td>\n",
       "      <td>0.886823</td>\n",
       "      <td>0.053920</td>\n",
       "      <td>-1.289270</td>\n",
       "      <td>-1.638927</td>\n",
       "      <td>8.273182</td>\n",
       "    </tr>\n",
       "    <tr>\n",
       "      <th>29</th>\n",
       "      <td>Borrowing dependency</td>\n",
       "      <td>0.384317</td>\n",
       "      <td>0.374654</td>\n",
       "      <td>0.016286</td>\n",
       "      <td>0.593294</td>\n",
       "      <td>1.370497</td>\n",
       "      <td>2.254905</td>\n",
       "    </tr>\n",
       "    <tr>\n",
       "      <th>40</th>\n",
       "      <td>Cash/Total Assets</td>\n",
       "      <td>0.021855</td>\n",
       "      <td>0.124095</td>\n",
       "      <td>0.139251</td>\n",
       "      <td>-0.734210</td>\n",
       "      <td>-0.631090</td>\n",
       "      <td>1.589393</td>\n",
       "    </tr>\n",
       "    <tr>\n",
       "      <th>33</th>\n",
       "      <td>Inventory and accounts receivable/Net value</td>\n",
       "      <td>0.398743</td>\n",
       "      <td>0.402459</td>\n",
       "      <td>0.013324</td>\n",
       "      <td>-0.278913</td>\n",
       "      <td>-0.910537</td>\n",
       "      <td>1.289121</td>\n",
       "    </tr>\n",
       "    <tr>\n",
       "      <th>35</th>\n",
       "      <td>Net Worth Turnover Rate (times)</td>\n",
       "      <td>0.027581</td>\n",
       "      <td>0.038595</td>\n",
       "      <td>0.036680</td>\n",
       "      <td>-0.300281</td>\n",
       "      <td>-0.596382</td>\n",
       "      <td>1.196119</td>\n",
       "    </tr>\n",
       "  </tbody>\n",
       "</table>\n",
       "</div>"
      ],
      "text/plain": [
       "                                         feature    sample      mean  \\\n",
       "27                              Net worth/Assets  0.817305  0.886823   \n",
       "29                          Borrowing dependency  0.384317  0.374654   \n",
       "40                             Cash/Total Assets  0.021855  0.124095   \n",
       "33   Inventory and accounts receivable/Net value  0.398743  0.402459   \n",
       "35               Net Worth Turnover Rate (times)  0.027581  0.038595   \n",
       "\n",
       "         std   z_score  coefficient  probability factor  \n",
       "27  0.053920 -1.289270    -1.638927            8.273182  \n",
       "29  0.016286  0.593294     1.370497            2.254905  \n",
       "40  0.139251 -0.734210    -0.631090            1.589393  \n",
       "33  0.013324 -0.278913    -0.910537            1.289121  \n",
       "35  0.036680 -0.300281    -0.596382            1.196119  "
      ]
     },
     "execution_count": 35,
     "metadata": {},
     "output_type": "execute_result"
    }
   ],
   "source": [
    "get_probability_factor_table(4)"
   ]
  },
  {
   "cell_type": "markdown",
   "id": "5a7d8864",
   "metadata": {},
   "source": [
    "Like before, the net worth/assets ratio is significantly lower than average, though in this case, it's only slightly more than one standard deviation below the mean. This raises the probability of bankruptcy by a factor of 8.27 rather than a factor of 32, so we can see why our probability function gives a smaller probability of bankruptcy."
   ]
  },
  {
   "cell_type": "markdown",
   "id": "8842ff50",
   "metadata": {},
   "source": [
    "### Evaluating Logistic Regression\n",
    "\n",
    "Overall, logistic regression is very useful in spite of its lackluster f1-score. This is because we can easily quantity how we can expect precision and recall to change as we move along the precision recall curve. Since investors should care more about the performance of the portfolio as a whole than about correctly predicting the movement of individual stocks, this ability to quantify risk and establish thresholds for different risk categories makes logistic regression an extremely useful tool. It also allows us to easily identify the factors that are most influencing our algorithm's predictions and to use our domain knowledge to better understand how these factors might be affecting a company's bankruptcy risk."
   ]
  },
  {
   "cell_type": "markdown",
   "id": "4d80fd52",
   "metadata": {},
   "source": [
    "## Decision Tree Classifier #1\n",
    "\n",
    "We'll now fit a simple decision tree classifier on our model, using GridSearchCV to tune our hyper-parameters. I'm choosing low tree depths to generate a simple, interpretable model that won't overfit on the data. I'm leaving out leaf size specifications from the grid search since the classes are imbalanced and I want the model to be able to pick out smaller leaf sizes if necessary."
   ]
  },
  {
   "cell_type": "code",
   "execution_count": 36,
   "id": "950e808b",
   "metadata": {},
   "outputs": [],
   "source": [
    "tree = DecisionTreeClassifier(random_state=42, class_weight='balanced')\n",
    "\n",
    "grid = [{'criterion': ['gini', 'entropy'],\n",
    "         'max_depth': [2, 3, 4]\n",
    "        }]\n",
    "gs_tree = GridSearchCV(estimator=tree, param_grid=grid, scoring='f1', cv=5)"
   ]
  },
  {
   "cell_type": "code",
   "execution_count": 37,
   "id": "5f8d9d48",
   "metadata": {},
   "outputs": [
    {
     "data": {
      "text/plain": [
       "GridSearchCV(cv=5,\n",
       "             estimator=DecisionTreeClassifier(class_weight='balanced',\n",
       "                                              random_state=42),\n",
       "             param_grid=[{'criterion': ['gini', 'entropy'],\n",
       "                          'max_depth': [2, 3, 4]}],\n",
       "             scoring='f1')"
      ]
     },
     "execution_count": 37,
     "metadata": {},
     "output_type": "execute_result"
    }
   ],
   "source": [
    "gs_tree.fit(X_train, y_train)"
   ]
  },
  {
   "cell_type": "code",
   "execution_count": 38,
   "id": "b667e745",
   "metadata": {},
   "outputs": [
    {
     "data": {
      "text/plain": [
       "{'criterion': 'entropy', 'max_depth': 2}"
      ]
     },
     "execution_count": 38,
     "metadata": {},
     "output_type": "execute_result"
    }
   ],
   "source": [
    "gs_tree.best_params_"
   ]
  },
  {
   "cell_type": "markdown",
   "id": "1d55ff97",
   "metadata": {},
   "source": [
    "#### Decision Tree Results - Training Data"
   ]
  },
  {
   "cell_type": "code",
   "execution_count": 39,
   "id": "eff5bd12",
   "metadata": {},
   "outputs": [
    {
     "data": {
      "text/plain": [
       "<sklearn.metrics._plot.confusion_matrix.ConfusionMatrixDisplay at 0x7f91180227c0>"
      ]
     },
     "execution_count": 39,
     "metadata": {},
     "output_type": "execute_result"
    },
    {
     "data": {
      "image/png": "[encoded data removed]",
      "text/plain": [
       "<Figure size 432x288 with 2 Axes>"
      ]
     },
     "metadata": {
      "needs_background": "light"
     },
     "output_type": "display_data"
    }
   ],
   "source": [
    "plot_confusion_matrix(gs_tree, X_train, y_train)"
   ]
  },
  {
   "cell_type": "code",
   "execution_count": 40,
   "id": "f5c397cf",
   "metadata": {},
   "outputs": [
    {
     "name": "stdout",
     "output_type": "stream",
     "text": [
      "              precision    recall  f1-score   support\n",
      "\n",
      "           0       1.00      0.73      0.84      4952\n",
      "           1       0.10      0.89      0.18       162\n",
      "\n",
      "    accuracy                           0.74      5114\n",
      "   macro avg       0.55      0.81      0.51      5114\n",
      "weighted avg       0.97      0.74      0.82      5114\n",
      "\n"
     ]
    }
   ],
   "source": [
    "y_pred = gs_tree.predict(X_train)\n",
    "\n",
    "print(classification_report(y_train, y_pred))"
   ]
  },
  {
   "cell_type": "markdown",
   "id": "7292a755",
   "metadata": {},
   "source": [
    "#### Decision Tree Results - Testing Data"
   ]
  },
  {
   "cell_type": "code",
   "execution_count": 41,
   "id": "3eae73ac",
   "metadata": {},
   "outputs": [
    {
     "data": {
      "text/plain": [
       "<sklearn.metrics._plot.confusion_matrix.ConfusionMatrixDisplay at 0x7f914be551c0>"
      ]
     },
     "execution_count": 41,
     "metadata": {},
     "output_type": "execute_result"
    },
    {
     "data": {
      "image/png": "[encoded data removed]",
      "text/plain": [
       "<Figure size 432x288 with 2 Axes>"
      ]
     },
     "metadata": {
      "needs_background": "light"
     },
     "output_type": "display_data"
    }
   ],
   "source": [
    "plot_confusion_matrix(gs_tree, X_test, y_test)"
   ]
  },
  {
   "cell_type": "code",
   "execution_count": 42,
   "id": "d1b0eda2",
   "metadata": {
    "scrolled": true
   },
   "outputs": [
    {
     "name": "stdout",
     "output_type": "stream",
     "text": [
      "              precision    recall  f1-score   support\n",
      "\n",
      "           0       0.99      0.72      0.84      1647\n",
      "           1       0.10      0.84      0.17        58\n",
      "\n",
      "    accuracy                           0.73      1705\n",
      "   macro avg       0.54      0.78      0.51      1705\n",
      "weighted avg       0.96      0.73      0.81      1705\n",
      "\n"
     ]
    }
   ],
   "source": [
    "y_pred = gs_tree.predict(X_test)\n",
    "\n",
    "print(classification_report(y_test, y_pred))"
   ]
  },
  {
   "cell_type": "markdown",
   "id": "19050f64",
   "metadata": {},
   "source": [
    "### Interpreting the Decision Tree\n",
    "\n",
    "While the recall went up for this model (from 0.81 to 0.84), the precision went down, from 0.18 to 0.10 and the f1-score went down from 0.30 to 0.17. \n",
    "\n",
    "This is a very crude model that does a good job picking out most companies that do go bankrupt, but also includes an even larger number of companies that don't go bankrupt. It's most useful for investors who want to avoid risky assets while putting the minimum possible effort into portfolio management. And on the test data it worked quite well for this purpose. While someone who invests randomly can expect losses of over 3% due to bankruptcies, investors who use this simple decision tree can expect to trim losses due to bankruptcies to only 1%. \n",
    "\n",
    "In the tree below, we see that the data has been filtered into four bins, two bins predicting values of 0 (no bankruptcy) and two bins predicting values of 1 (bankruptcy). Our decision tree tells us how values ended up in each of these bins, as well as the entropy of each of the bins. An entropy value of one means that the bin is evenly divided between bankruptcies and non-bankruptcies, while an entropy of zero means that the bin consists of only bankruptcies or non-bankruptcies."
   ]
  },
  {
   "cell_type": "code",
   "execution_count": 43,
   "id": "0daa92eb",
   "metadata": {},
   "outputs": [
    {
     "data": {
      "image/png": "[encoded data removed]",
      "text/plain": [
       "<Figure size 1080x720 with 1 Axes>"
      ]
     },
     "metadata": {
      "needs_background": "light"
     },
     "output_type": "display_data"
    }
   ],
   "source": [
    "fig, ax = plt.subplots(figsize=(15, 10))\n",
    "plot_tree(gs_tree.best_estimator_, class_names = {0: 'not bankrupt', 1: 'bankrupt'})\n",
    "plt.show()"
   ]
  },
  {
   "cell_type": "markdown",
   "id": "93d22221",
   "metadata": {},
   "source": [
    "Below we can see the three features used in our decision tree, along with their relative importance."
   ]
  },
  {
   "cell_type": "code",
   "execution_count": 44,
   "id": "b14c00a5",
   "metadata": {},
   "outputs": [
    {
     "data": {
      "text/html": [
       "<div>\n",
       "<style scoped>\n",
       "    .dataframe tbody tr th:only-of-type {\n",
       "        vertical-align: middle;\n",
       "    }\n",
       "\n",
       "    .dataframe tbody tr th {\n",
       "        vertical-align: top;\n",
       "    }\n",
       "\n",
       "    .dataframe thead th {\n",
       "        text-align: right;\n",
       "    }\n",
       "</style>\n",
       "<table border=\"1\" class=\"dataframe\">\n",
       "  <thead>\n",
       "    <tr style=\"text-align: right;\">\n",
       "      <th></th>\n",
       "      <th>column</th>\n",
       "      <th>importance</th>\n",
       "    </tr>\n",
       "  </thead>\n",
       "  <tbody>\n",
       "    <tr>\n",
       "      <th>61</th>\n",
       "      <td>Net Income to Total Assets</td>\n",
       "      <td>0.645758</td>\n",
       "    </tr>\n",
       "    <tr>\n",
       "      <th>68</th>\n",
       "      <td>Equity to Liability</td>\n",
       "      <td>0.182021</td>\n",
       "    </tr>\n",
       "    <tr>\n",
       "      <th>26</th>\n",
       "      <td>Interest Expense Ratio</td>\n",
       "      <td>0.172221</td>\n",
       "    </tr>\n",
       "    <tr>\n",
       "      <th>49</th>\n",
       "      <td>Total expense/Assets</td>\n",
       "      <td>0.000000</td>\n",
       "    </tr>\n",
       "    <tr>\n",
       "      <th>48</th>\n",
       "      <td>Total income/Total expense</td>\n",
       "      <td>0.000000</td>\n",
       "    </tr>\n",
       "  </tbody>\n",
       "</table>\n",
       "</div>"
      ],
      "text/plain": [
       "                         column  importance\n",
       "61   Net Income to Total Assets    0.645758\n",
       "68          Equity to Liability    0.182021\n",
       "26       Interest Expense Ratio    0.172221\n",
       "49         Total expense/Assets    0.000000\n",
       "48   Total income/Total expense    0.000000"
      ]
     },
     "execution_count": 44,
     "metadata": {},
     "output_type": "execute_result"
    }
   ],
   "source": [
    "features = pd.concat([pd.DataFrame(X.columns, columns=['column']), pd.DataFrame(gs_tree.best_estimator_.feature_importances_, columns=['importance'])], axis=1)\n",
    "features.sort_values('importance', ascending=False).head()"
   ]
  },
  {
   "cell_type": "markdown",
   "id": "d0b705ca",
   "metadata": {},
   "source": [
    "The top node divides the data between companies with higher net income to total assets ratios and companies with lower net income to total assets ratios, with lower ratios all labeled as bankruptcies and higher ratios all labeled as non-bankruptcies. While this predicts bankruptcy with a very low (10%) precision rate, it has a recall of 84%, which is unsurprising since a company with poor financial health is very likely to have a below average income relative to its size.\n",
    "\n",
    "The next splits in our decision tree divide each of the net income/total assets nodes into two leaves--a high entropy leaf and a low entropy leaf. These leaves don't have any effect on the decision made by the algorithm. But their  entropy tells us how confident the algorithm is in its predictions. The leaves with entropy levels of 1 and 0.966 include companies that have about the same likelihood of representing bankruptcies as non-bankruptcies, while the leaves with lower entropy levels (0.416 and 0.086) represent a significantly greater likelihood of either bankruptcies or non-bankruptcies."
   ]
  },
  {
   "cell_type": "markdown",
   "id": "6bb37cbd",
   "metadata": {},
   "source": [
    "### Inside the Decision Tree\n",
    "\n",
    "Below we can see the relevant statistics for the first five rows of test data as well as the predictions made by the decision tree algorithm on this data."
   ]
  },
  {
   "cell_type": "code",
   "execution_count": 45,
   "id": "3456b2f0",
   "metadata": {
    "scrolled": true
   },
   "outputs": [
    {
     "data": {
      "text/html": [
       "<div>\n",
       "<style scoped>\n",
       "    .dataframe tbody tr th:only-of-type {\n",
       "        vertical-align: middle;\n",
       "    }\n",
       "\n",
       "    .dataframe tbody tr th {\n",
       "        vertical-align: top;\n",
       "    }\n",
       "\n",
       "    .dataframe thead th {\n",
       "        text-align: right;\n",
       "    }\n",
       "</style>\n",
       "<table border=\"1\" class=\"dataframe\">\n",
       "  <thead>\n",
       "    <tr style=\"text-align: right;\">\n",
       "      <th></th>\n",
       "      <th>Net Income to Total Assets</th>\n",
       "      <th>Equity to Liability</th>\n",
       "      <th>Interest Expense Ratio</th>\n",
       "      <th>probabilities</th>\n",
       "      <th>predictions</th>\n",
       "      <th>Bankrupt?</th>\n",
       "    </tr>\n",
       "  </thead>\n",
       "  <tbody>\n",
       "    <tr>\n",
       "      <th>239</th>\n",
       "      <td>0.765336</td>\n",
       "      <td>0.087378</td>\n",
       "      <td>0.630611</td>\n",
       "      <td>0.511688</td>\n",
       "      <td>1</td>\n",
       "      <td>0</td>\n",
       "    </tr>\n",
       "    <tr>\n",
       "      <th>2850</th>\n",
       "      <td>0.817797</td>\n",
       "      <td>0.028519</td>\n",
       "      <td>0.631052</td>\n",
       "      <td>0.010727</td>\n",
       "      <td>0</td>\n",
       "      <td>0</td>\n",
       "    </tr>\n",
       "    <tr>\n",
       "      <th>2687</th>\n",
       "      <td>0.847518</td>\n",
       "      <td>0.048876</td>\n",
       "      <td>0.630615</td>\n",
       "      <td>0.010727</td>\n",
       "      <td>0</td>\n",
       "      <td>0</td>\n",
       "    </tr>\n",
       "    <tr>\n",
       "      <th>6500</th>\n",
       "      <td>0.767650</td>\n",
       "      <td>0.014691</td>\n",
       "      <td>0.630033</td>\n",
       "      <td>0.916137</td>\n",
       "      <td>1</td>\n",
       "      <td>1</td>\n",
       "    </tr>\n",
       "    <tr>\n",
       "      <th>2684</th>\n",
       "      <td>0.810394</td>\n",
       "      <td>0.019245</td>\n",
       "      <td>0.632175</td>\n",
       "      <td>0.391703</td>\n",
       "      <td>0</td>\n",
       "      <td>0</td>\n",
       "    </tr>\n",
       "  </tbody>\n",
       "</table>\n",
       "</div>"
      ],
      "text/plain": [
       "       Net Income to Total Assets   Equity to Liability  \\\n",
       "239                      0.765336              0.087378   \n",
       "2850                     0.817797              0.028519   \n",
       "2687                     0.847518              0.048876   \n",
       "6500                     0.767650              0.014691   \n",
       "2684                     0.810394              0.019245   \n",
       "\n",
       "       Interest Expense Ratio  probabilities  predictions  Bankrupt?  \n",
       "239                  0.630611       0.511688            1          0  \n",
       "2850                 0.631052       0.010727            0          0  \n",
       "2687                 0.630615       0.010727            0          0  \n",
       "6500                 0.630033       0.916137            1          1  \n",
       "2684                 0.632175       0.391703            0          0  "
      ]
     },
     "execution_count": 45,
     "metadata": {},
     "output_type": "execute_result"
    }
   ],
   "source": [
    "stats = X_test.iloc[:5, [61, 68, 26]]\n",
    "index_rows = list(X_test.iloc[:5, :].index)\n",
    "predictions = pd.DataFrame(gs_tree.predict(X_test.iloc[:5,:]), columns=['predictions'], index=index_rows)\n",
    "values = pd.DataFrame(y_test).iloc[:5,:]\n",
    "probabilities = pd.DataFrame([n[1] for n in gs_tree.predict_proba(X_test.iloc[:5,:])], columns=['probabilities'], index=index_rows)\n",
    "pd.concat([stats, probabilities, predictions, values], axis=1)"
   ]
  },
  {
   "cell_type": "markdown",
   "id": "8ca43433",
   "metadata": {},
   "source": [
    "Here we  get the same true positive as we got for the logistic regression, while we have a different false positive. Both these companies have a low net income to assets ratio which is why both of them are labeled as bankrupt. However, the true positive is labeled as bankrupt with a 91.6% probability while the false positive was labeled as bankrupt with only a 51% probability. \n",
    "\n",
    "Just as we used the precision recall curve to evaluate the performance of probability thresholds for our logistic regression, we can also use it to evaluate the performance of probability thresholds for our decision tree. The difference is that we have a set of four precision and recall numbers for each leaf of the tree rather than a continuous probability function that has a different value at each point."
   ]
  },
  {
   "cell_type": "markdown",
   "id": "58ae815a",
   "metadata": {},
   "source": [
    "Below we can see how the leaf with a 91.6% probability prediction yielded 107 false positives and only 39 true positives."
   ]
  },
  {
   "cell_type": "code",
   "execution_count": 48,
   "id": "94edfb93",
   "metadata": {},
   "outputs": [
    {
     "data": {
      "image/png": "[encoded data removed]",
      "text/plain": [
       "<Figure size 432x288 with 2 Axes>"
      ]
     },
     "metadata": {
      "needs_background": "light"
     },
     "output_type": "display_data"
    }
   ],
   "source": [
    "y_probs = [n[1] for n in gs_tree.predict_proba(X_test)]\n",
    "\n",
    "# getting precision recall curve\n",
    "\n",
    "probs_df = pd.DataFrame(y_probs, index=list(y_test.index), columns=['probabilities'])\n",
    "y_preds_df = pd.DataFrame(gs_tree.predict(X_test), index=list(y_test.index), columns=['predictions'])\n",
    "y_true_df = pd.DataFrame(y_test)\n",
    "dataframe = pd.concat([probs_df, y_preds_df, y_true_df], axis=1)\n",
    "\n",
    "highest_threshold_indices = list(dataframe[dataframe['probabilities']>0.9].index)\n",
    "\n",
    "plot_confusion_matrix(gs_tree, X_test.loc[highest_threshold_indices,:], y_test[highest_threshold_indices])\n",
    "plt.show()"
   ]
  },
  {
   "cell_type": "markdown",
   "id": "48c71263",
   "metadata": {},
   "source": [
    "On the other had, the leaf with a 0.01% probability prediction yielded 0 false negatives."
   ]
  },
  {
   "cell_type": "code",
   "execution_count": 50,
   "id": "4cbcd01e",
   "metadata": {},
   "outputs": [
    {
     "data": {
      "image/png": "[encoded data removed]",
      "text/plain": [
       "<Figure size 432x288 with 2 Axes>"
      ]
     },
     "metadata": {
      "needs_background": "light"
     },
     "output_type": "display_data"
    }
   ],
   "source": [
    "highest_threshold_indices = list(dataframe[dataframe['probabilities']<0.2].index)\n",
    "\n",
    "plot_confusion_matrix(gs_tree, X_test.loc[highest_threshold_indices,:], y_test[highest_threshold_indices])\n",
    "plt.show()"
   ]
  },
  {
   "cell_type": "markdown",
   "id": "aabca935",
   "metadata": {},
   "source": [
    "These confusion matrices show that while our model works well for picking out safe investments, it doesn't perform very well at picking out bankruptcies with precision, which is useful if we're trying to short sell stocks. In this sense, the Logistic Regression model is more effective since its complexity allows us to more finely tune our precision/recall trade off based on probability thresholds."
   ]
  },
  {
   "cell_type": "markdown",
   "id": "8345074f",
   "metadata": {},
   "source": [
    "## Decision Tree Classifier #2\n",
    "\n",
    "With our second decision tree classifier, we'll test out trees with greater depth and with minimum weight fractions for each leaf. I'm using weight fractions rather than sizes because weight fractions take into account the weight balancing that gives a greater weight to the minority class."
   ]
  },
  {
   "cell_type": "code",
   "execution_count": 51,
   "id": "43f52f67",
   "metadata": {},
   "outputs": [],
   "source": [
    "tree = DecisionTreeClassifier(random_state=42, class_weight='balanced')\n",
    "\n",
    "grid = [{'criterion': ['entropy', 'gini'],\n",
    "         'max_depth': [5, 6, 7],\n",
    "         'min_weight_fraction_leaf': [np.e**n for n in range(-5, 0)],\n",
    "         'max_features': ['sqrt', 'log2']\n",
    "        }]\n",
    "gs_tree_2 = GridSearchCV(estimator=tree, param_grid=grid, scoring='f1', cv=5)"
   ]
  },
  {
   "cell_type": "code",
   "execution_count": 52,
   "id": "28b34fa8",
   "metadata": {},
   "outputs": [
    {
     "data": {
      "text/plain": [
       "GridSearchCV(cv=5,\n",
       "             estimator=DecisionTreeClassifier(class_weight='balanced',\n",
       "                                              random_state=42),\n",
       "             param_grid=[{'criterion': ['entropy', 'gini'],\n",
       "                          'max_depth': [5, 6, 7],\n",
       "                          'max_features': ['sqrt', 'log2'],\n",
       "                          'min_weight_fraction_leaf': [0.006737946999085469,\n",
       "                                                       0.018315638888734186,\n",
       "                                                       0.04978706836786395,\n",
       "                                                       0.1353352832366127,\n",
       "                                                       0.36787944117144233]}],\n",
       "             scoring='f1')"
      ]
     },
     "execution_count": 52,
     "metadata": {},
     "output_type": "execute_result"
    }
   ],
   "source": [
    "gs_tree_2.fit(X_train, y_train)"
   ]
  },
  {
   "cell_type": "code",
   "execution_count": 53,
   "id": "677fbccc",
   "metadata": {},
   "outputs": [
    {
     "data": {
      "text/plain": [
       "{'criterion': 'gini',\n",
       " 'max_depth': 6,\n",
       " 'max_features': 'sqrt',\n",
       " 'min_weight_fraction_leaf': 0.006737946999085469}"
      ]
     },
     "execution_count": 53,
     "metadata": {},
     "output_type": "execute_result"
    }
   ],
   "source": [
    "gs_tree_2.best_params_"
   ]
  },
  {
   "cell_type": "markdown",
   "id": "e09e06c7",
   "metadata": {},
   "source": [
    "#### Decision Tree #2: Training Data"
   ]
  },
  {
   "cell_type": "code",
   "execution_count": 54,
   "id": "8bc2f147",
   "metadata": {},
   "outputs": [
    {
     "data": {
      "text/plain": [
       "<sklearn.metrics._plot.confusion_matrix.ConfusionMatrixDisplay at 0x7f9118027460>"
      ]
     },
     "execution_count": 54,
     "metadata": {},
     "output_type": "execute_result"
    },
    {
     "data": {
      "image/png": "[encoded data removed]",
      "text/plain": [
       "<Figure size 432x288 with 2 Axes>"
      ]
     },
     "metadata": {
      "needs_background": "light"
     },
     "output_type": "display_data"
    }
   ],
   "source": [
    "plot_confusion_matrix(gs_tree_2, X_train, y_train)"
   ]
  },
  {
   "cell_type": "code",
   "execution_count": 55,
   "id": "395cf1c7",
   "metadata": {},
   "outputs": [
    {
     "name": "stdout",
     "output_type": "stream",
     "text": [
      "              precision    recall  f1-score   support\n",
      "\n",
      "           0       1.00      0.89      0.94      4952\n",
      "           1       0.22      0.96      0.35       162\n",
      "\n",
      "    accuracy                           0.89      5114\n",
      "   macro avg       0.61      0.92      0.65      5114\n",
      "weighted avg       0.97      0.89      0.92      5114\n",
      "\n"
     ]
    }
   ],
   "source": [
    "y_pred = gs_tree_2.predict(X_train)\n",
    "print(classification_report(y_train, y_pred))"
   ]
  },
  {
   "cell_type": "markdown",
   "id": "fb83cc81",
   "metadata": {},
   "source": [
    "#### Decision Tree #2: Test Data"
   ]
  },
  {
   "cell_type": "code",
   "execution_count": 56,
   "id": "4e2c8ee0",
   "metadata": {},
   "outputs": [
    {
     "data": {
      "text/plain": [
       "<sklearn.metrics._plot.confusion_matrix.ConfusionMatrixDisplay at 0x7f9159d0f370>"
      ]
     },
     "execution_count": 56,
     "metadata": {},
     "output_type": "execute_result"
    },
    {
     "data": {
      "image/png": "[encoded data removed]",
      "text/plain": [
       "<Figure size 432x288 with 2 Axes>"
      ]
     },
     "metadata": {
      "needs_background": "light"
     },
     "output_type": "display_data"
    }
   ],
   "source": [
    "plot_confusion_matrix(gs_tree_2, X_test, y_test)"
   ]
  },
  {
   "cell_type": "code",
   "execution_count": 57,
   "id": "3d406853",
   "metadata": {},
   "outputs": [
    {
     "name": "stdout",
     "output_type": "stream",
     "text": [
      "              precision    recall  f1-score   support\n",
      "\n",
      "           0       0.99      0.88      0.93      1647\n",
      "           1       0.20      0.84      0.32        58\n",
      "\n",
      "    accuracy                           0.88      1705\n",
      "   macro avg       0.60      0.86      0.63      1705\n",
      "weighted avg       0.97      0.88      0.91      1705\n",
      "\n"
     ]
    }
   ],
   "source": [
    "y_pred = gs_tree_2.predict(X_test)\n",
    "\n",
    "print(classification_report(y_test, y_pred))"
   ]
  },
  {
   "cell_type": "markdown",
   "id": "00fe0949",
   "metadata": {},
   "source": [
    "This model both has a significantly improved f1 score compared to the simple decision tree model and the larger number of leaves means that it has a larger number of probability thresholds, which is useful if we want to divide companies into more than two risk classes as we're able to do with the logistic regression model. Its performance on the testing data is not much worse than its performance on the training data, which is good because it means that we can trust that the decision tree hasn't been overfit on the training data. Below we can see the number of predictions at each probability threshold (where >0.5 predicts bankruptcy and <0.5 predicts no bankruptcy). "
   ]
  },
  {
   "cell_type": "code",
   "execution_count": 59,
   "id": "53079000",
   "metadata": {
    "scrolled": true
   },
   "outputs": [
    {
     "data": {
      "text/plain": [
       "0.000000    1336\n",
       "0.905867      51\n",
       "0.971225      35\n",
       "0.245391      33\n",
       "0.379405      29\n",
       "0.374754      24\n",
       "0.550100      22\n",
       "0.452403      20\n",
       "0.598574      17\n",
       "0.898278      16\n",
       "0.897264      16\n",
       "0.670821      16\n",
       "0.326692      15\n",
       "0.799483      14\n",
       "0.678263      11\n",
       "0.772543      10\n",
       "0.813671      10\n",
       "0.656416       8\n",
       "0.930023       6\n",
       "0.693655       6\n",
       "0.983906       3\n",
       "0.824646       3\n",
       "0.964503       2\n",
       "0.792574       2\n",
       "Name: bankruptcy, dtype: int64"
      ]
     },
     "execution_count": 59,
     "metadata": {},
     "output_type": "execute_result"
    }
   ],
   "source": [
    "predictions = pd.DataFrame(gs_tree_2.predict_proba(X_test), columns=['no bankruptcy','bankruptcy'])\n",
    "predictions['bankruptcy'].value_counts()"
   ]
  },
  {
   "cell_type": "code",
   "execution_count": 60,
   "id": "09041447",
   "metadata": {
    "scrolled": true
   },
   "outputs": [
    {
     "data": {
      "text/html": [
       "<div>\n",
       "<style scoped>\n",
       "    .dataframe tbody tr th:only-of-type {\n",
       "        vertical-align: middle;\n",
       "    }\n",
       "\n",
       "    .dataframe tbody tr th {\n",
       "        vertical-align: top;\n",
       "    }\n",
       "\n",
       "    .dataframe thead th {\n",
       "        text-align: right;\n",
       "    }\n",
       "</style>\n",
       "<table border=\"1\" class=\"dataframe\">\n",
       "  <thead>\n",
       "    <tr style=\"text-align: right;\">\n",
       "      <th></th>\n",
       "      <th>probabilities</th>\n",
       "      <th>predictions</th>\n",
       "      <th>Bankrupt?</th>\n",
       "    </tr>\n",
       "  </thead>\n",
       "  <tbody>\n",
       "    <tr>\n",
       "      <th>239</th>\n",
       "      <td>0.000000</td>\n",
       "      <td>0</td>\n",
       "      <td>0</td>\n",
       "    </tr>\n",
       "    <tr>\n",
       "      <th>2850</th>\n",
       "      <td>0.000000</td>\n",
       "      <td>0</td>\n",
       "      <td>0</td>\n",
       "    </tr>\n",
       "    <tr>\n",
       "      <th>2687</th>\n",
       "      <td>0.000000</td>\n",
       "      <td>0</td>\n",
       "      <td>0</td>\n",
       "    </tr>\n",
       "    <tr>\n",
       "      <th>6500</th>\n",
       "      <td>0.905867</td>\n",
       "      <td>1</td>\n",
       "      <td>1</td>\n",
       "    </tr>\n",
       "    <tr>\n",
       "      <th>2684</th>\n",
       "      <td>0.000000</td>\n",
       "      <td>0</td>\n",
       "      <td>0</td>\n",
       "    </tr>\n",
       "  </tbody>\n",
       "</table>\n",
       "</div>"
      ],
      "text/plain": [
       "      probabilities  predictions  Bankrupt?\n",
       "239        0.000000            0          0\n",
       "2850       0.000000            0          0\n",
       "2687       0.000000            0          0\n",
       "6500       0.905867            1          1\n",
       "2684       0.000000            0          0"
      ]
     },
     "execution_count": 60,
     "metadata": {},
     "output_type": "execute_result"
    }
   ],
   "source": [
    "y_probs = [n[1] for n in gs_tree_2.predict_proba(X_test)]\n",
    "\n",
    "# getting precision recall curve\n",
    "\n",
    "probs_df = pd.DataFrame(y_probs, index=list(y_test.index), columns=['probabilities'])\n",
    "y_preds_df = pd.DataFrame(gs_tree_2.predict(X_test), index=list(y_test.index), columns=['predictions'])\n",
    "y_true_df = pd.DataFrame(y_test)\n",
    "dataframe = pd.concat([probs_df, y_preds_df, y_true_df], axis=1)\n",
    "dataframe.head()"
   ]
  },
  {
   "cell_type": "code",
   "execution_count": 61,
   "id": "4a830afe",
   "metadata": {},
   "outputs": [
    {
     "data": {
      "text/plain": [
       "<sklearn.metrics._plot.confusion_matrix.ConfusionMatrixDisplay at 0x7f912833dc40>"
      ]
     },
     "execution_count": 61,
     "metadata": {},
     "output_type": "execute_result"
    },
    {
     "data": {
      "image/png": "[encoded data removed]",
      "text/plain": [
       "<Figure size 432x288 with 2 Axes>"
      ]
     },
     "metadata": {
      "needs_background": "light"
     },
     "output_type": "display_data"
    }
   ],
   "source": [
    "lowest_threshold_indices = list(dataframe[dataframe['probabilities']<0.245391].index)\n",
    "\n",
    "plot_confusion_matrix(gs_tree_2, X_test.loc[lowest_threshold_indices,:], y_test[lowest_threshold_indices])"
   ]
  },
  {
   "cell_type": "markdown",
   "id": "a6ffddc6",
   "metadata": {},
   "source": [
    "As we see here, if we invested solely in stocks at below a 24.5% bankruptcy probability threshold, we would have lost around 0.5% of their value to bankruptcies."
   ]
  },
  {
   "cell_type": "code",
   "execution_count": 62,
   "id": "76d4e5e9",
   "metadata": {},
   "outputs": [
    {
     "data": {
      "text/plain": [
       "<sklearn.metrics._plot.confusion_matrix.ConfusionMatrixDisplay at 0x7f91283c2ee0>"
      ]
     },
     "execution_count": 62,
     "metadata": {},
     "output_type": "execute_result"
    },
    {
     "data": {
      "image/png": "[encoded data removed]",
      "text/plain": [
       "<Figure size 432x288 with 2 Axes>"
      ]
     },
     "metadata": {
      "needs_background": "light"
     },
     "output_type": "display_data"
    }
   ],
   "source": [
    "highest_threshold_indices = list(dataframe[dataframe['probabilities']>0.983906].index)\n",
    "\n",
    "plot_confusion_matrix(gs_tree_2, X_test.loc[highest_threshold_indices,:], y_test[highest_threshold_indices])"
   ]
  },
  {
   "cell_type": "markdown",
   "id": "d13a69f7",
   "metadata": {},
   "source": [
    "Conversely, if we had shorted the stocks of companies with bankruptcy probabilities of the highest threshold (98.4%), two out of three would have in fact gone bankrupt."
   ]
  },
  {
   "cell_type": "markdown",
   "id": "0991e602",
   "metadata": {},
   "source": [
    "## Random Forest Classifier\n",
    "\n",
    "A random forest classifier uses multiple decision trees each trained on different randomly selected samples of the training data, and limited to a different set of randomly chosen features. Then the classifier counts the predictions for each data point and labels the data point according to the value predicted by the largest number of trees."
   ]
  },
  {
   "cell_type": "code",
   "execution_count": 63,
   "id": "c552fa20",
   "metadata": {},
   "outputs": [],
   "source": [
    "rfc = RandomForestClassifier(class_weight='balanced', random_state=42)\n",
    "\n",
    "grid = [{'criterion': ['entropy', 'gini'],\n",
    "        'n_estimators': [30, 40, 50],\n",
    "        'max_depth': [2, 3, 4],\n",
    "        'max_features': ['auto','log2']}]\n",
    "\n",
    "gs_rfc = GridSearchCV(estimator=rfc, param_grid=grid, scoring='f1', cv=5)"
   ]
  },
  {
   "cell_type": "code",
   "execution_count": 64,
   "id": "fa5549c1",
   "metadata": {},
   "outputs": [
    {
     "data": {
      "text/plain": [
       "GridSearchCV(cv=5,\n",
       "             estimator=RandomForestClassifier(class_weight='balanced',\n",
       "                                              random_state=42),\n",
       "             param_grid=[{'criterion': ['entropy', 'gini'],\n",
       "                          'max_depth': [2, 3, 4],\n",
       "                          'max_features': ['auto', 'log2'],\n",
       "                          'n_estimators': [30, 40, 50]}],\n",
       "             scoring='f1')"
      ]
     },
     "execution_count": 64,
     "metadata": {},
     "output_type": "execute_result"
    }
   ],
   "source": [
    "gs_rfc.fit(X_train, y_train)"
   ]
  },
  {
   "cell_type": "code",
   "execution_count": 65,
   "id": "7c2711f1",
   "metadata": {},
   "outputs": [
    {
     "data": {
      "text/plain": [
       "{'criterion': 'entropy',\n",
       " 'max_depth': 4,\n",
       " 'max_features': 'auto',\n",
       " 'n_estimators': 40}"
      ]
     },
     "execution_count": 65,
     "metadata": {},
     "output_type": "execute_result"
    }
   ],
   "source": [
    "gs_rfc.best_params_"
   ]
  },
  {
   "cell_type": "markdown",
   "id": "e1263b0b",
   "metadata": {},
   "source": [
    "#### Random Forest Results - Training Data"
   ]
  },
  {
   "cell_type": "code",
   "execution_count": 66,
   "id": "1b84c117",
   "metadata": {},
   "outputs": [
    {
     "data": {
      "text/plain": [
       "<sklearn.metrics._plot.confusion_matrix.ConfusionMatrixDisplay at 0x7f91283b8e80>"
      ]
     },
     "execution_count": 66,
     "metadata": {},
     "output_type": "execute_result"
    },
    {
     "data": {
      "image/png": "[encoded data removed]",
      "text/plain": [
       "<Figure size 432x288 with 2 Axes>"
      ]
     },
     "metadata": {
      "needs_background": "light"
     },
     "output_type": "display_data"
    }
   ],
   "source": [
    "plot_confusion_matrix(gs_rfc, X_train, y_train)"
   ]
  },
  {
   "cell_type": "code",
   "execution_count": 67,
   "id": "dd9cfd3c",
   "metadata": {},
   "outputs": [
    {
     "name": "stdout",
     "output_type": "stream",
     "text": [
      "              precision    recall  f1-score   support\n",
      "\n",
      "           0       1.00      0.92      0.96      4952\n",
      "           1       0.26      0.89      0.40       162\n",
      "\n",
      "    accuracy                           0.92      5114\n",
      "   macro avg       0.63      0.90      0.68      5114\n",
      "weighted avg       0.97      0.92      0.94      5114\n",
      "\n"
     ]
    }
   ],
   "source": [
    "y_pred = gs_rfc.predict(X_train)\n",
    "print(classification_report(y_train, y_pred))"
   ]
  },
  {
   "cell_type": "markdown",
   "id": "548c74d6",
   "metadata": {},
   "source": [
    "#### Random Forest Results - Test Data"
   ]
  },
  {
   "cell_type": "code",
   "execution_count": 68,
   "id": "b4638801",
   "metadata": {},
   "outputs": [
    {
     "data": {
      "text/plain": [
       "<sklearn.metrics._plot.confusion_matrix.ConfusionMatrixDisplay at 0x7f9128344a30>"
      ]
     },
     "execution_count": 68,
     "metadata": {},
     "output_type": "execute_result"
    },
    {
     "data": {
      "image/png": "[encoded data removed]",
      "text/plain": [
       "<Figure size 432x288 with 2 Axes>"
      ]
     },
     "metadata": {
      "needs_background": "light"
     },
     "output_type": "display_data"
    }
   ],
   "source": [
    "plot_confusion_matrix(gs_rfc, X_test, y_test)"
   ]
  },
  {
   "cell_type": "code",
   "execution_count": 69,
   "id": "fdffe444",
   "metadata": {},
   "outputs": [
    {
     "name": "stdout",
     "output_type": "stream",
     "text": [
      "              precision    recall  f1-score   support\n",
      "\n",
      "           0       0.99      0.91      0.95      1647\n",
      "           1       0.25      0.83      0.38        58\n",
      "\n",
      "    accuracy                           0.91      1705\n",
      "   macro avg       0.62      0.87      0.67      1705\n",
      "weighted avg       0.97      0.91      0.93      1705\n",
      "\n"
     ]
    }
   ],
   "source": [
    "y_pred = gs_rfc.predict(X_test)\n",
    "print(classification_report(y_test, y_pred))"
   ]
  },
  {
   "cell_type": "markdown",
   "id": "7b97a43a",
   "metadata": {},
   "source": [
    "#### Listing all probability values with value counts"
   ]
  },
  {
   "cell_type": "code",
   "execution_count": 70,
   "id": "468fbcd9",
   "metadata": {},
   "outputs": [
    {
     "data": {
      "text/plain": [
       "0.000494    196\n",
       "0.001812     79\n",
       "0.002246     77\n",
       "0.003593     22\n",
       "0.003564     16\n",
       "           ... \n",
       "0.022407      1\n",
       "0.006010      1\n",
       "0.168260      1\n",
       "0.157549      1\n",
       "0.033026      1\n",
       "Name: bankruptcy, Length: 1202, dtype: int64"
      ]
     },
     "execution_count": 70,
     "metadata": {},
     "output_type": "execute_result"
    }
   ],
   "source": [
    "predictions = pd.DataFrame(gs_rfc.predict_proba(X_test), columns=['no bankruptcy','bankruptcy'])\n",
    "predictions['bankruptcy'].value_counts()"
   ]
  },
  {
   "cell_type": "markdown",
   "id": "8fb90886",
   "metadata": {},
   "source": [
    "The fact that there are more probability values in the Random Forest's probability function means that we can use our model to make more fine grained distinctions between risk thresholds."
   ]
  },
  {
   "cell_type": "markdown",
   "id": "570ed5bc",
   "metadata": {},
   "source": [
    "#### Model Performance on First Five Rows"
   ]
  },
  {
   "cell_type": "code",
   "execution_count": 73,
   "id": "f1cfd73f",
   "metadata": {},
   "outputs": [
    {
     "data": {
      "text/html": [
       "<div>\n",
       "<style scoped>\n",
       "    .dataframe tbody tr th:only-of-type {\n",
       "        vertical-align: middle;\n",
       "    }\n",
       "\n",
       "    .dataframe tbody tr th {\n",
       "        vertical-align: top;\n",
       "    }\n",
       "\n",
       "    .dataframe thead th {\n",
       "        text-align: right;\n",
       "    }\n",
       "</style>\n",
       "<table border=\"1\" class=\"dataframe\">\n",
       "  <thead>\n",
       "    <tr style=\"text-align: right;\">\n",
       "      <th></th>\n",
       "      <th>probabilities</th>\n",
       "      <th>predictions</th>\n",
       "      <th>Bankrupt?</th>\n",
       "    </tr>\n",
       "  </thead>\n",
       "  <tbody>\n",
       "    <tr>\n",
       "      <th>239</th>\n",
       "      <td>0.270793</td>\n",
       "      <td>0</td>\n",
       "      <td>0</td>\n",
       "    </tr>\n",
       "    <tr>\n",
       "      <th>2850</th>\n",
       "      <td>0.019623</td>\n",
       "      <td>0</td>\n",
       "      <td>0</td>\n",
       "    </tr>\n",
       "    <tr>\n",
       "      <th>2687</th>\n",
       "      <td>0.003593</td>\n",
       "      <td>0</td>\n",
       "      <td>0</td>\n",
       "    </tr>\n",
       "    <tr>\n",
       "      <th>6500</th>\n",
       "      <td>0.881361</td>\n",
       "      <td>1</td>\n",
       "      <td>1</td>\n",
       "    </tr>\n",
       "    <tr>\n",
       "      <th>2684</th>\n",
       "      <td>0.394425</td>\n",
       "      <td>0</td>\n",
       "      <td>0</td>\n",
       "    </tr>\n",
       "  </tbody>\n",
       "</table>\n",
       "</div>"
      ],
      "text/plain": [
       "      probabilities  predictions  Bankrupt?\n",
       "239        0.270793            0          0\n",
       "2850       0.019623            0          0\n",
       "2687       0.003593            0          0\n",
       "6500       0.881361            1          1\n",
       "2684       0.394425            0          0"
      ]
     },
     "execution_count": 73,
     "metadata": {},
     "output_type": "execute_result"
    }
   ],
   "source": [
    "y_probs = [n[1] for n in gs_rfc.predict_proba(X_test)]\n",
    "\n",
    "# getting precision recall curve\n",
    "\n",
    "probs_df = pd.DataFrame(y_probs, index=list(y_test.index), columns=['probabilities'])\n",
    "y_preds_df = pd.DataFrame(gs_rfc.predict(X_test), index=list(y_test.index), columns=['predictions'])\n",
    "y_true_df = pd.DataFrame(y_test)\n",
    "dataframe = pd.concat([probs_df, y_preds_df, y_true_df], axis=1)\n",
    "dataframe.head()"
   ]
  },
  {
   "cell_type": "markdown",
   "id": "72745225",
   "metadata": {},
   "source": [
    "The Random Forest performed perfectly on the first five rows of test data."
   ]
  },
  {
   "cell_type": "markdown",
   "id": "b41fc999",
   "metadata": {},
   "source": [
    "#### Precision at >94% threshold"
   ]
  },
  {
   "cell_type": "code",
   "execution_count": 74,
   "id": "07cc7bd2",
   "metadata": {},
   "outputs": [
    {
     "data": {
      "text/plain": [
       "<sklearn.metrics._plot.confusion_matrix.ConfusionMatrixDisplay at 0x7f914bf99070>"
      ]
     },
     "execution_count": 74,
     "metadata": {},
     "output_type": "execute_result"
    },
    {
     "data": {
      "image/png": "[encoded data removed]",
      "text/plain": [
       "<Figure size 432x288 with 2 Axes>"
      ]
     },
     "metadata": {
      "needs_background": "light"
     },
     "output_type": "display_data"
    }
   ],
   "source": [
    "highest_threshold_indices = list(dataframe[dataframe['probabilities']>=0.94].index)\n",
    "\n",
    "plot_confusion_matrix(gs_rfc, X_test.loc[highest_threshold_indices,:], y_test[highest_threshold_indices])"
   ]
  },
  {
   "cell_type": "markdown",
   "id": "ac00e695",
   "metadata": {},
   "source": [
    "#### Precision at <6% threshold"
   ]
  },
  {
   "cell_type": "code",
   "execution_count": 75,
   "id": "ad75777e",
   "metadata": {},
   "outputs": [
    {
     "data": {
      "text/plain": [
       "<sklearn.metrics._plot.confusion_matrix.ConfusionMatrixDisplay at 0x7f9128488d60>"
      ]
     },
     "execution_count": 75,
     "metadata": {},
     "output_type": "execute_result"
    },
    {
     "data": {
      "image/png": "[encoded data removed]",
      "text/plain": [
       "<Figure size 432x288 with 2 Axes>"
      ]
     },
     "metadata": {
      "needs_background": "light"
     },
     "output_type": "display_data"
    }
   ],
   "source": [
    "lowest_threshold_indices = list(dataframe[dataframe['probabilities']<0.06].index)\n",
    "\n",
    "plot_confusion_matrix(gs_rfc, X_test.loc[lowest_threshold_indices,:], y_test[lowest_threshold_indices])"
   ]
  },
  {
   "cell_type": "markdown",
   "id": "5ba1ce8f",
   "metadata": {},
   "source": [
    "The random forest model performs slightly better than our second decision tree model at the 50% threshold. However, a big part of its power comes from the fact that it is able to predict with much greater recall and precision at high and low thresholds. It is also superior to our logistic regression model at the 94% threshold. The logistic regression model had a false positive rate of 50% at this threshold compared to the Random Forest which had a false positive rate of under 17% at this threshold."
   ]
  },
  {
   "cell_type": "code",
   "execution_count": 322,
   "id": "fffcd517",
   "metadata": {
    "scrolled": true
   },
   "outputs": [
    {
     "data": {
      "text/plain": [
       "<matplotlib.legend.Legend at 0x7f912985aa60>"
      ]
     },
     "execution_count": 322,
     "metadata": {},
     "output_type": "execute_result"
    },
    {
     "data": {
      "image/png": "[encoded data removed]",
      "text/plain": [
       "<Figure size 720x432 with 1 Axes>"
      ]
     },
     "metadata": {
      "needs_background": "light"
     },
     "output_type": "display_data"
    }
   ],
   "source": [
    "#getting probabilities for decision function\n",
    "\n",
    "y_probs = [n[1] for n in gs_rfc.predict_proba(X_test)]\n",
    "\n",
    "# getting precision recall curve\n",
    "\n",
    "precision, recall, thresholds = precision_recall_curve(y_test, y_probs)\n",
    "\n",
    "fig, ax = plt.subplots(figsize=(10, 6))\n",
    "\n",
    "ax.plot(recall, precision, label='precision recall curve')\n",
    "\n",
    "ax.set_yticks([i/20.0 for i in range(21)])\n",
    "ax.set_xticks([i/20.0 for i in range(21)])\n",
    "ax.set_xlabel('Recall')\n",
    "ax.set_ylabel('Precision')\n",
    "ax.set_title('Precision Recall Curve')\n",
    "ax.axvline(x=5/58, label='94% threshold', color='red')\n",
    "ax.axvline(x=0.83, label='50% threshold', color='yellow')\n",
    "ax.axvline(x=1, label='6% threshold', color='green')\n",
    "plt.legend(loc='upper right')"
   ]
  },
  {
   "cell_type": "code",
   "execution_count": 323,
   "id": "0f183af3",
   "metadata": {},
   "outputs": [
    {
     "name": "stderr",
     "output_type": "stream",
     "text": [
      "/var/folders/gs/xqppcy254vd2q7ybhjlcr_pr0000gn/T/ipykernel_1074/1560636972.py:6: UserWarning: Boolean Series key will be reindexed to match DataFrame index.\n",
      "  precision_recall_df.sort_values('precision', ascending=False)[(precision_recall_df['precision']>0.499)&(precision_recall_df['precision']<0.501)]\n"
     ]
    },
    {
     "data": {
      "text/html": [
       "<div>\n",
       "<style scoped>\n",
       "    .dataframe tbody tr th:only-of-type {\n",
       "        vertical-align: middle;\n",
       "    }\n",
       "\n",
       "    .dataframe tbody tr th {\n",
       "        vertical-align: top;\n",
       "    }\n",
       "\n",
       "    .dataframe thead th {\n",
       "        text-align: right;\n",
       "    }\n",
       "</style>\n",
       "<table border=\"1\" class=\"dataframe\">\n",
       "  <thead>\n",
       "    <tr style=\"text-align: right;\">\n",
       "      <th></th>\n",
       "      <th>thresholds</th>\n",
       "      <th>recall</th>\n",
       "      <th>precision</th>\n",
       "    </tr>\n",
       "  </thead>\n",
       "  <tbody>\n",
       "    <tr>\n",
       "      <th>832</th>\n",
       "      <td>0.917741</td>\n",
       "      <td>0.155172</td>\n",
       "      <td>0.5</td>\n",
       "    </tr>\n",
       "    <tr>\n",
       "      <th>822</th>\n",
       "      <td>0.907370</td>\n",
       "      <td>0.241379</td>\n",
       "      <td>0.5</td>\n",
       "    </tr>\n",
       "    <tr>\n",
       "      <th>814</th>\n",
       "      <td>0.877738</td>\n",
       "      <td>0.310345</td>\n",
       "      <td>0.5</td>\n",
       "    </tr>\n",
       "    <tr>\n",
       "      <th>816</th>\n",
       "      <td>0.883500</td>\n",
       "      <td>0.293103</td>\n",
       "      <td>0.5</td>\n",
       "    </tr>\n",
       "    <tr>\n",
       "      <th>818</th>\n",
       "      <td>0.886218</td>\n",
       "      <td>0.275862</td>\n",
       "      <td>0.5</td>\n",
       "    </tr>\n",
       "    <tr>\n",
       "      <th>836</th>\n",
       "      <td>0.924378</td>\n",
       "      <td>0.120690</td>\n",
       "      <td>0.5</td>\n",
       "    </tr>\n",
       "    <tr>\n",
       "      <th>838</th>\n",
       "      <td>0.926928</td>\n",
       "      <td>0.103448</td>\n",
       "      <td>0.5</td>\n",
       "    </tr>\n",
       "    <tr>\n",
       "      <th>826</th>\n",
       "      <td>0.914734</td>\n",
       "      <td>0.206897</td>\n",
       "      <td>0.5</td>\n",
       "    </tr>\n",
       "    <tr>\n",
       "      <th>834</th>\n",
       "      <td>0.919585</td>\n",
       "      <td>0.137931</td>\n",
       "      <td>0.5</td>\n",
       "    </tr>\n",
       "  </tbody>\n",
       "</table>\n",
       "</div>"
      ],
      "text/plain": [
       "     thresholds    recall  precision\n",
       "832    0.917741  0.155172        0.5\n",
       "822    0.907370  0.241379        0.5\n",
       "814    0.877738  0.310345        0.5\n",
       "816    0.883500  0.293103        0.5\n",
       "818    0.886218  0.275862        0.5\n",
       "836    0.924378  0.120690        0.5\n",
       "838    0.926928  0.103448        0.5\n",
       "826    0.914734  0.206897        0.5\n",
       "834    0.919585  0.137931        0.5"
      ]
     },
     "execution_count": 323,
     "metadata": {},
     "output_type": "execute_result"
    }
   ],
   "source": [
    "thresholds_df = pd.DataFrame(thresholds.reshape(-1,1), columns=['thresholds'])\n",
    "precision_df = pd.DataFrame(precision.reshape(-1,1), columns=['precision'])\n",
    "recall_df = pd.DataFrame(recall.reshape(-1,1), columns=['recall'])\n",
    "\n",
    "precision_recall_df = pd.concat([thresholds_df, recall_df, precision_df], axis=1)\n",
    "precision_recall_df.sort_values('precision', ascending=False)[(precision_recall_df['precision']>0.499)&(precision_recall_df['precision']<0.501)]"
   ]
  },
  {
   "cell_type": "markdown",
   "id": "42b4444c",
   "metadata": {},
   "source": [
    "We see here that we get a 50% precision for a range of probability values, from 88.35% to 92.69%"
   ]
  },
  {
   "cell_type": "markdown",
   "id": "7dd0a247",
   "metadata": {},
   "source": [
    "## XGBoost\n",
    "\n",
    "The last algorithm I tested was XGBoost, which uses a succession of weak learner tree algorithms that train on their predecessor's weaknesses to make a progressively stronger predictions. "
   ]
  },
  {
   "cell_type": "code",
   "execution_count": 76,
   "id": "8e0626fb",
   "metadata": {},
   "outputs": [],
   "source": [
    "from xgboost import XGBClassifier"
   ]
  },
  {
   "cell_type": "code",
   "execution_count": 287,
   "id": "792d0f78",
   "metadata": {},
   "outputs": [],
   "source": [
    "grid = {\n",
    "    'max_depth': [2, 3, 4],\n",
    "    'n_estimators': [150, 160, 170, 180, 190],\n",
    "    'reg_lambda': [np.e**n for n in range(0, 6)]\n",
    "}\n",
    "\n",
    "ratio = y_train.value_counts()[0]/y_train.value_counts()[1]\n",
    "\n",
    "xgb_clf = XGBClassifier(use_label_encoder=False, random_state=42, eval_metric='logloss', scale_pos_weight=ratio)\n",
    "\n",
    "gs_xgb = GridSearchCV(estimator=xgb_clf, param_grid=grid, cv=5, scoring='f1')"
   ]
  },
  {
   "cell_type": "code",
   "execution_count": 288,
   "id": "2d7e2b24",
   "metadata": {},
   "outputs": [
    {
     "data": {
      "text/plain": [
       "GridSearchCV(cv=5,\n",
       "             estimator=XGBClassifier(base_score=None, booster=None,\n",
       "                                     colsample_bylevel=None,\n",
       "                                     colsample_bynode=None,\n",
       "                                     colsample_bytree=None,\n",
       "                                     enable_categorical=False,\n",
       "                                     eval_metric='logloss', gamma=None,\n",
       "                                     gpu_id=None, importance_type=None,\n",
       "                                     interaction_constraints=None,\n",
       "                                     learning_rate=None, max_delta_step=None,\n",
       "                                     max_depth=None, min_child_weight=None,\n",
       "                                     missing=nan, mono...\n",
       "                                     random_state=42, reg_alpha=None,\n",
       "                                     reg_lambda=None,\n",
       "                                     scale_pos_weight=30.567901234567902,\n",
       "                                     subsample=None, tree_method=None,\n",
       "                                     use_label_encoder=False,\n",
       "                                     validate_parameters=None, verbosity=None),\n",
       "             param_grid={'max_depth': [2, 3, 4],\n",
       "                         'n_estimators': [150, 160, 170, 180, 190],\n",
       "                         'reg_lambda': [1.0, 2.718281828459045,\n",
       "                                        7.3890560989306495, 20.085536923187664,\n",
       "                                        54.59815003314423,\n",
       "                                        148.41315910257657]},\n",
       "             scoring='f1')"
      ]
     },
     "execution_count": 288,
     "metadata": {},
     "output_type": "execute_result"
    }
   ],
   "source": [
    "gs_xgb.fit(X_train, y_train)"
   ]
  },
  {
   "cell_type": "code",
   "execution_count": 289,
   "id": "a8033bcb",
   "metadata": {},
   "outputs": [
    {
     "data": {
      "text/plain": [
       "XGBClassifier(base_score=0.5, booster='gbtree', colsample_bylevel=1,\n",
       "              colsample_bynode=1, colsample_bytree=1, enable_categorical=False,\n",
       "              eval_metric='logloss', gamma=0, gpu_id=-1, importance_type=None,\n",
       "              interaction_constraints='', learning_rate=0.300000012,\n",
       "              max_delta_step=0, max_depth=4, min_child_weight=1, missing=nan,\n",
       "              monotone_constraints='()', n_estimators=160, n_jobs=8,\n",
       "              num_parallel_tree=1, predictor='auto', random_state=42,\n",
       "              reg_alpha=0, reg_lambda=54.59815003314423,\n",
       "              scale_pos_weight=30.567901234567902, subsample=1,\n",
       "              tree_method='exact', use_label_encoder=False,\n",
       "              validate_parameters=1, verbosity=None)"
      ]
     },
     "execution_count": 289,
     "metadata": {},
     "output_type": "execute_result"
    }
   ],
   "source": [
    "gs_xgb.best_estimator_"
   ]
  },
  {
   "cell_type": "markdown",
   "id": "d1e2b242",
   "metadata": {},
   "source": [
    "#### XGBoost Results - Training Data"
   ]
  },
  {
   "cell_type": "code",
   "execution_count": 290,
   "id": "22f5cda3",
   "metadata": {},
   "outputs": [
    {
     "data": {
      "text/plain": [
       "<sklearn.metrics._plot.confusion_matrix.ConfusionMatrixDisplay at 0x7f9169ff6d60>"
      ]
     },
     "execution_count": 290,
     "metadata": {},
     "output_type": "execute_result"
    },
    {
     "data": {
      "image/png": "[encoded data removed]",
      "text/plain": [
       "<Figure size 432x288 with 2 Axes>"
      ]
     },
     "metadata": {
      "needs_background": "light"
     },
     "output_type": "display_data"
    }
   ],
   "source": [
    "plot_confusion_matrix(gs_xgb, X_train, y_train)"
   ]
  },
  {
   "cell_type": "code",
   "execution_count": 291,
   "id": "6d3d91c2",
   "metadata": {},
   "outputs": [
    {
     "name": "stdout",
     "output_type": "stream",
     "text": [
      "              precision    recall  f1-score   support\n",
      "\n",
      "           0       1.00      1.00      1.00      4952\n",
      "           1       0.95      1.00      0.97       162\n",
      "\n",
      "    accuracy                           1.00      5114\n",
      "   macro avg       0.97      1.00      0.99      5114\n",
      "weighted avg       1.00      1.00      1.00      5114\n",
      "\n"
     ]
    }
   ],
   "source": [
    "y_pred = gs_xgb.predict(X_train)\n",
    "print(classification_report(y_train, y_pred))"
   ]
  },
  {
   "cell_type": "markdown",
   "id": "ecfb6e6d",
   "metadata": {},
   "source": [
    "#### XGBoost Results - Testing Data"
   ]
  },
  {
   "cell_type": "code",
   "execution_count": 292,
   "id": "518f4c3a",
   "metadata": {
    "scrolled": true
   },
   "outputs": [
    {
     "data": {
      "text/plain": [
       "<sklearn.metrics._plot.confusion_matrix.ConfusionMatrixDisplay at 0x7f915a8736a0>"
      ]
     },
     "execution_count": 292,
     "metadata": {},
     "output_type": "execute_result"
    },
    {
     "data": {
      "image/png": "[encoded data removed]",
      "text/plain": [
       "<Figure size 432x288 with 2 Axes>"
      ]
     },
     "metadata": {
      "needs_background": "light"
     },
     "output_type": "display_data"
    }
   ],
   "source": [
    "plot_confusion_matrix(gs_xgb, X_test, y_test)"
   ]
  },
  {
   "cell_type": "code",
   "execution_count": 293,
   "id": "53ec1011",
   "metadata": {},
   "outputs": [],
   "source": [
    "y_pred = gs_xgb.predict(X_test)"
   ]
  },
  {
   "cell_type": "code",
   "execution_count": 294,
   "id": "391a7352",
   "metadata": {},
   "outputs": [
    {
     "name": "stdout",
     "output_type": "stream",
     "text": [
      "              precision    recall  f1-score   support\n",
      "\n",
      "           0       0.98      0.98      0.98      1647\n",
      "           1       0.45      0.57      0.50        58\n",
      "\n",
      "    accuracy                           0.96      1705\n",
      "   macro avg       0.72      0.77      0.74      1705\n",
      "weighted avg       0.97      0.96      0.96      1705\n",
      "\n"
     ]
    }
   ],
   "source": [
    "print(classification_report(y_test, y_pred))"
   ]
  },
  {
   "cell_type": "code",
   "execution_count": 295,
   "id": "36248b2f",
   "metadata": {},
   "outputs": [
    {
     "data": {
      "text/html": [
       "<div>\n",
       "<style scoped>\n",
       "    .dataframe tbody tr th:only-of-type {\n",
       "        vertical-align: middle;\n",
       "    }\n",
       "\n",
       "    .dataframe tbody tr th {\n",
       "        vertical-align: top;\n",
       "    }\n",
       "\n",
       "    .dataframe thead th {\n",
       "        text-align: right;\n",
       "    }\n",
       "</style>\n",
       "<table border=\"1\" class=\"dataframe\">\n",
       "  <thead>\n",
       "    <tr style=\"text-align: right;\">\n",
       "      <th></th>\n",
       "      <th>probabilities</th>\n",
       "      <th>predictions</th>\n",
       "      <th>Bankrupt?</th>\n",
       "    </tr>\n",
       "  </thead>\n",
       "  <tbody>\n",
       "    <tr>\n",
       "      <th>239</th>\n",
       "      <td>0.000374</td>\n",
       "      <td>0</td>\n",
       "      <td>0</td>\n",
       "    </tr>\n",
       "    <tr>\n",
       "      <th>2850</th>\n",
       "      <td>0.000161</td>\n",
       "      <td>0</td>\n",
       "      <td>0</td>\n",
       "    </tr>\n",
       "    <tr>\n",
       "      <th>2687</th>\n",
       "      <td>0.000184</td>\n",
       "      <td>0</td>\n",
       "      <td>0</td>\n",
       "    </tr>\n",
       "    <tr>\n",
       "      <th>6500</th>\n",
       "      <td>0.123737</td>\n",
       "      <td>1</td>\n",
       "      <td>1</td>\n",
       "    </tr>\n",
       "    <tr>\n",
       "      <th>2684</th>\n",
       "      <td>0.018734</td>\n",
       "      <td>0</td>\n",
       "      <td>0</td>\n",
       "    </tr>\n",
       "  </tbody>\n",
       "</table>\n",
       "</div>"
      ],
      "text/plain": [
       "      probabilities  predictions  Bankrupt?\n",
       "239        0.000374            0          0\n",
       "2850       0.000161            0          0\n",
       "2687       0.000184            0          0\n",
       "6500       0.123737            1          1\n",
       "2684       0.018734            0          0"
      ]
     },
     "execution_count": 295,
     "metadata": {},
     "output_type": "execute_result"
    }
   ],
   "source": [
    "y_probs = [n[1] for n in gs_xgb.predict_proba(X_test)]\n",
    "\n",
    "# getting precision recall curve\n",
    "\n",
    "probs_df = pd.DataFrame(y_probs, index=list(y_test.index), columns=['probabilities'])\n",
    "y_preds_df = pd.DataFrame(gs_rfc.predict(X_test), index=list(y_test.index), columns=['predictions'])\n",
    "y_true_df = pd.DataFrame(y_test)\n",
    "dataframe = pd.concat([probs_df, y_preds_df, y_true_df], axis=1)\n",
    "dataframe.head()"
   ]
  },
  {
   "cell_type": "code",
   "execution_count": 318,
   "id": "4301bdcc",
   "metadata": {},
   "outputs": [
    {
     "data": {
      "text/plain": [
       "<sklearn.metrics._plot.confusion_matrix.ConfusionMatrixDisplay at 0x7f915bdb52b0>"
      ]
     },
     "execution_count": 318,
     "metadata": {},
     "output_type": "execute_result"
    },
    {
     "data": {
      "image/png": "[encoded data removed]",
      "text/plain": [
       "<Figure size 432x288 with 2 Axes>"
      ]
     },
     "metadata": {
      "needs_background": "light"
     },
     "output_type": "display_data"
    }
   ],
   "source": [
    "highest_threshold_indices = list(dataframe[dataframe['probabilities']>=0.97].index)\n",
    "\n",
    "plot_confusion_matrix(gs_xgb, X_test.loc[highest_threshold_indices,:], y_test[highest_threshold_indices])"
   ]
  },
  {
   "cell_type": "code",
   "execution_count": 306,
   "id": "f30ca6df",
   "metadata": {},
   "outputs": [
    {
     "data": {
      "text/plain": [
       "<sklearn.metrics._plot.confusion_matrix.ConfusionMatrixDisplay at 0x7f916a4e7100>"
      ]
     },
     "execution_count": 306,
     "metadata": {},
     "output_type": "execute_result"
    },
    {
     "data": {
      "image/png": "[encoded data removed]",
      "text/plain": [
       "<Figure size 432x288 with 2 Axes>"
      ]
     },
     "metadata": {
      "needs_background": "light"
     },
     "output_type": "display_data"
    }
   ],
   "source": [
    "low_threshold_indices = list(dataframe[dataframe['probabilities']<0.0008].index)\n",
    "\n",
    "plot_confusion_matrix(gs_xgb, X_test.loc[low_threshold_indices,:], y_test[low_threshold_indices])"
   ]
  },
  {
   "cell_type": "markdown",
   "id": "13bb6157",
   "metadata": {},
   "source": [
    "The above confusion matrices show that at above a 97% probability threshold, we are able to pick out almost 10% of bankruptcies without any false positives. Below a 0.08% thresholds we were able to pick out a 898 companies, none of which went bankrupt."
   ]
  },
  {
   "cell_type": "markdown",
   "id": "e630872a",
   "metadata": {},
   "source": [
    "### Precision Recall Curve"
   ]
  },
  {
   "cell_type": "code",
   "execution_count": 324,
   "id": "7a100d40",
   "metadata": {},
   "outputs": [
    {
     "data": {
      "text/plain": [
       "<matplotlib.legend.Legend at 0x7f916ab76730>"
      ]
     },
     "execution_count": 324,
     "metadata": {},
     "output_type": "execute_result"
    },
    {
     "data": {
      "image/png": "[encoded data removed]",
      "text/plain": [
       "<Figure size 720x432 with 1 Axes>"
      ]
     },
     "metadata": {
      "needs_background": "light"
     },
     "output_type": "display_data"
    }
   ],
   "source": [
    "#getting probabilities for decision function\n",
    "\n",
    "y_probs = [n[1] for n in gs_xgb.predict_proba(X_test)]\n",
    "\n",
    "# getting precision recall curve\n",
    "\n",
    "precision, recall, thresholds = precision_recall_curve(y_test, y_probs)\n",
    "\n",
    "fig, ax = plt.subplots(figsize=(10, 6))\n",
    "\n",
    "ax.plot(recall, precision, label='precision recall curve')\n",
    "\n",
    "ax.set_yticks([i/20.0 for i in range(21)])\n",
    "ax.set_xticks([i/20.0 for i in range(21)])\n",
    "ax.set_xlabel('Recall')\n",
    "ax.set_ylabel('Precision')\n",
    "ax.set_title('Precision Recall Curve')\n",
    "ax.axvline(x=5/58, label='97% threshold', color='red')\n",
    "ax.axvline(x=0.57, label='50% threshold', color='yellow')\n",
    "ax.axvline(x=1, label='0.08% threshold', color='green')\n",
    "plt.legend(loc='upper right')"
   ]
  },
  {
   "cell_type": "markdown",
   "id": "580971d8",
   "metadata": {},
   "source": [
    "With an f1 score of 50% this is definitely our best model, though even with regularization it appears to be overfitting on the data. It has a high recall at low probability thresholds and a high precision at high probability thresholds, which makes up for its lower recall at the 50% threshold. This is not necessarily a bad thing, since we've raised our precision at the 50% threshold and are therefore avoiding too many false positives. "
   ]
  },
  {
   "cell_type": "code",
   "execution_count": 321,
   "id": "c5d4924f",
   "metadata": {},
   "outputs": [
    {
     "name": "stderr",
     "output_type": "stream",
     "text": [
      "/var/folders/gs/xqppcy254vd2q7ybhjlcr_pr0000gn/T/ipykernel_1074/1560636972.py:6: UserWarning: Boolean Series key will be reindexed to match DataFrame index.\n",
      "  precision_recall_df.sort_values('precision', ascending=False)[(precision_recall_df['precision']>0.499)&(precision_recall_df['precision']<0.501)]\n"
     ]
    },
    {
     "data": {
      "text/html": [
       "<div>\n",
       "<style scoped>\n",
       "    .dataframe tbody tr th:only-of-type {\n",
       "        vertical-align: middle;\n",
       "    }\n",
       "\n",
       "    .dataframe tbody tr th {\n",
       "        vertical-align: top;\n",
       "    }\n",
       "\n",
       "    .dataframe thead th {\n",
       "        text-align: right;\n",
       "    }\n",
       "</style>\n",
       "<table border=\"1\" class=\"dataframe\">\n",
       "  <thead>\n",
       "    <tr style=\"text-align: right;\">\n",
       "      <th></th>\n",
       "      <th>thresholds</th>\n",
       "      <th>recall</th>\n",
       "      <th>precision</th>\n",
       "    </tr>\n",
       "  </thead>\n",
       "  <tbody>\n",
       "    <tr>\n",
       "      <th>734</th>\n",
       "      <td>0.646736</td>\n",
       "      <td>0.448276</td>\n",
       "      <td>0.5</td>\n",
       "    </tr>\n",
       "    <tr>\n",
       "      <th>730</th>\n",
       "      <td>0.609431</td>\n",
       "      <td>0.482759</td>\n",
       "      <td>0.5</td>\n",
       "    </tr>\n",
       "    <tr>\n",
       "      <th>736</th>\n",
       "      <td>0.663963</td>\n",
       "      <td>0.431034</td>\n",
       "      <td>0.5</td>\n",
       "    </tr>\n",
       "  </tbody>\n",
       "</table>\n",
       "</div>"
      ],
      "text/plain": [
       "     thresholds    recall  precision\n",
       "734    0.646736  0.448276        0.5\n",
       "730    0.609431  0.482759        0.5\n",
       "736    0.663963  0.431034        0.5"
      ]
     },
     "execution_count": 321,
     "metadata": {},
     "output_type": "execute_result"
    }
   ],
   "source": [
    "thresholds_df = pd.DataFrame(thresholds.reshape(-1,1), columns=['thresholds'])\n",
    "precision_df = pd.DataFrame(precision.reshape(-1,1), columns=['precision'])\n",
    "recall_df = pd.DataFrame(recall.reshape(-1,1), columns=['recall'])\n",
    "\n",
    "precision_recall_df = pd.concat([thresholds_df, recall_df, precision_df], axis=1)\n",
    "precision_recall_df.sort_values('precision', ascending=False)[(precision_recall_df['precision']>0.499)&(precision_recall_df['precision']<0.501)]"
   ]
  },
  {
   "cell_type": "markdown",
   "id": "0980df67",
   "metadata": {},
   "source": [
    "In this model, we get 50% precision at probabilities of 61%-66%. This is much better than our Linear Regression model, for example, where we got this level of precision only above 94.36% probability and our Random Forest model where we got this level of precision at between 88 and 92% probability."
   ]
  },
  {
   "cell_type": "code",
   "execution_count": 334,
   "id": "8c557066",
   "metadata": {},
   "outputs": [
    {
     "data": {
      "text/plain": [
       "probabilities    42.278595\n",
       "predictions      49.000000\n",
       "Bankrupt?        25.000000\n",
       "dtype: float64"
      ]
     },
     "execution_count": 334,
     "metadata": {},
     "output_type": "execute_result"
    }
   ],
   "source": [
    "dataframe[dataframe['probabilities']>0.663963].sum()"
   ]
  },
  {
   "cell_type": "markdown",
   "id": "f3f71ba8",
   "metadata": {},
   "source": [
    "As we see here, if we shorted all 49 of the companies above the 66.4% probability threshold, slightly more than half of them would go bankrupt. There's a chance that all gains could be wiped out by the appreciation in value of the other 24 companies, but the essential point is that if we were trying to choose a certain number of stocks to short, we would have done better using this model as a guide compared to any of our other models."
   ]
  },
  {
   "cell_type": "code",
   "execution_count": null,
   "id": "a7a8f32d",
   "metadata": {},
   "outputs": [],
   "source": []
  }
 ],
 "metadata": {
  "kernelspec": {
   "display_name": "Python 3 (ipykernel)",
   "language": "python",
   "name": "python3"
  },
  "language_info": {
   "codemirror_mode": {
    "name": "ipython",
    "version": 3
   },
   "file_extension": ".py",
   "mimetype": "text/x-python",
   "name": "python",
   "nbconvert_exporter": "python",
   "pygments_lexer": "ipython3",
   "version": "3.9.7"
  }
 },
 "nbformat": 4,
 "nbformat_minor": 5
}
